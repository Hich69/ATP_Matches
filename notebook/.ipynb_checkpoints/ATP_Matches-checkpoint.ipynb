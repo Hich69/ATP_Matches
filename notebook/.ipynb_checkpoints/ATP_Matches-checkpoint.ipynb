{
 "cells": [
  {
   "cell_type": "markdown",
   "metadata": {},
   "source": [
    "# Loading modules"
   ]
  },
  {
   "cell_type": "code",
   "execution_count": 1,
   "metadata": {},
   "outputs": [
    {
     "name": "stderr",
     "output_type": "stream",
     "text": [
      "C:\\Users\\HAZRAK\\AppData\\Local\\Continuum\\anaconda3\\lib\\site-packages\\sklearn\\ensemble\\weight_boosting.py:29: DeprecationWarning: numpy.core.umath_tests is an internal NumPy module and should not be imported. It will be removed in a future NumPy release.\n",
      "  from numpy.core.umath_tests import inner1d\n"
     ]
    }
   ],
   "source": [
    "import pandas as pd\n",
    "import numpy as np\n",
    "import matplotlib.pyplot as plt\n",
    "import os, math\n",
    "from datetime import datetime\n",
    "import seaborn as sns\n",
    "import matplotlib.cm as cm\n",
    "\n",
    "from sklearn import neighbors, linear_model, svm, tree, ensemble\n",
    "from sklearn.model_selection import GridSearchCV\n",
    "from sklearn.metrics import confusion_matrix,roc_auc_score\n",
    "from sklearn import metrics\n",
    "from sklearn.model_selection import train_test_split"
   ]
  },
  {
   "cell_type": "markdown",
   "metadata": {},
   "source": [
    "# Cleaning of data"
   ]
  },
  {
   "cell_type": "code",
   "execution_count": 2,
   "metadata": {},
   "outputs": [],
   "source": [
    "dat = pd.read_csv(\"../data/ATP.csv\")"
   ]
  },
  {
   "cell_type": "markdown",
   "metadata": {},
   "source": [
    "Converting the date of tourney as datatime"
   ]
  },
  {
   "cell_type": "code",
   "execution_count": 3,
   "metadata": {},
   "outputs": [],
   "source": [
    "dat['date'] = dat.tourney_date.apply(lambda t: datetime.strptime(str(t), '%Y%m%d'))"
   ]
  },
  {
   "cell_type": "markdown",
   "metadata": {
    "scrolled": true
   },
   "source": [
    "Changing the format of initial dataframe.<br>\n",
    "I would like to create a binary target which means the win of the player j0 or j1.<br>\n",
    "For example, target = 0 means that the player j0 won, otherwise target = 1 means that the player j1 won.<br>\n",
    "Objective : Predict this target based on several variables from this dataset."
   ]
  },
  {
   "cell_type": "code",
   "execution_count": 4,
   "metadata": {},
   "outputs": [],
   "source": [
    "colnames = dict()\n",
    "colnames['type1'] = ['1stIn', '1stWon', '2ndWon', 'SvGms', 'ace', 'bpFaced', 'bpSaved', 'df', 'svpt']\n",
    "colnames['type2'] = ['age', 'entry', 'hand', 'ht', 'id', 'ioc', 'name', 'rank', 'rank_points', 'seed']\n",
    "colnames['type3'] = ['best_of', 'draw_size', 'match_num', 'minutes', 'round', 'score', 'surface', 'tourney_date',\n",
    "                     'tourney_id', 'tourney_level', 'tourney_name', 'date']"
   ]
  },
  {
   "cell_type": "code",
   "execution_count": 5,
   "metadata": {},
   "outputs": [],
   "source": [
    "df = pd.DataFrame()\n",
    "mat = []\n",
    "for i in dat.index:\n",
    "    row = []\n",
    "    for col in colnames['type3']:\n",
    "        row.append(dat[col][i])\n",
    "    if i % 2 == 0: #j0\n",
    "        # j0=loser, j1=winner\n",
    "        for col in colnames['type1']:\n",
    "            row.append(dat['l_'+col][i])\n",
    "        for col in colnames['type2']:\n",
    "            row.append(dat['loser_'+col][i])\n",
    "        for col in colnames['type1']:\n",
    "            row.append(dat['w_'+col][i])\n",
    "        for col in colnames['type2']:\n",
    "            row.append(dat['winner_'+col][i])\n",
    "        row.append(1) #target winner --> j1\n",
    "    else: #j1\n",
    "        # j0=winner, j1=loser\n",
    "        for col in colnames['type1']:\n",
    "            row.append(dat['w_'+col][i])\n",
    "        for col in colnames['type2']:\n",
    "            row.append(dat['winner_'+col][i])\n",
    "        for col in colnames['type1']:\n",
    "            row.append(dat['l_'+col][i])\n",
    "        for col in colnames['type2']:\n",
    "            row.append(dat['loser_'+col][i])\n",
    "        row.append(0) #target winner --> j0\n",
    "    mat.append(row)"
   ]
  },
  {
   "cell_type": "code",
   "execution_count": 6,
   "metadata": {},
   "outputs": [],
   "source": [
    "colDataFrame = colnames['type3']\n",
    "for col in colnames['type1']:\n",
    "    colDataFrame.append('j0_'+col)\n",
    "for col in colnames['type2']:\n",
    "    colDataFrame.append('j0_'+col)\n",
    "for col in colnames['type1']:\n",
    "    colDataFrame.append('j1_'+col)\n",
    "for col in colnames['type2']:\n",
    "    colDataFrame.append('j1_'+col)\n",
    "colDataFrame.append(\"target\")"
   ]
  },
  {
   "cell_type": "code",
   "execution_count": 7,
   "metadata": {},
   "outputs": [],
   "source": [
    "df = pd.DataFrame(columns=colDataFrame, data=mat)"
   ]
  },
  {
   "cell_type": "code",
   "execution_count": 8,
   "metadata": {},
   "outputs": [
    {
     "data": {
      "text/html": [
       "<div>\n",
       "<style scoped>\n",
       "    .dataframe tbody tr th:only-of-type {\n",
       "        vertical-align: middle;\n",
       "    }\n",
       "\n",
       "    .dataframe tbody tr th {\n",
       "        vertical-align: top;\n",
       "    }\n",
       "\n",
       "    .dataframe thead th {\n",
       "        text-align: right;\n",
       "    }\n",
       "</style>\n",
       "<table border=\"1\" class=\"dataframe\">\n",
       "  <thead>\n",
       "    <tr style=\"text-align: right;\">\n",
       "      <th></th>\n",
       "      <th>best_of</th>\n",
       "      <th>draw_size</th>\n",
       "      <th>match_num</th>\n",
       "      <th>minutes</th>\n",
       "      <th>round</th>\n",
       "      <th>score</th>\n",
       "      <th>surface</th>\n",
       "      <th>tourney_date</th>\n",
       "      <th>tourney_id</th>\n",
       "      <th>tourney_level</th>\n",
       "      <th>...</th>\n",
       "      <th>j1_entry</th>\n",
       "      <th>j1_hand</th>\n",
       "      <th>j1_ht</th>\n",
       "      <th>j1_id</th>\n",
       "      <th>j1_ioc</th>\n",
       "      <th>j1_name</th>\n",
       "      <th>j1_rank</th>\n",
       "      <th>j1_rank_points</th>\n",
       "      <th>j1_seed</th>\n",
       "      <th>target</th>\n",
       "    </tr>\n",
       "  </thead>\n",
       "  <tbody>\n",
       "    <tr>\n",
       "      <th>0</th>\n",
       "      <td>5</td>\n",
       "      <td>64.0</td>\n",
       "      <td>1</td>\n",
       "      <td>NaN</td>\n",
       "      <td>R64</td>\n",
       "      <td>12-10 7-5 4-6 7-5</td>\n",
       "      <td>Grass</td>\n",
       "      <td>19680119</td>\n",
       "      <td>1968-580</td>\n",
       "      <td>G</td>\n",
       "      <td>...</td>\n",
       "      <td>NaN</td>\n",
       "      <td>R</td>\n",
       "      <td>NaN</td>\n",
       "      <td>110023</td>\n",
       "      <td>AUS</td>\n",
       "      <td>Richard Coulthard</td>\n",
       "      <td>NaN</td>\n",
       "      <td>NaN</td>\n",
       "      <td>NaN</td>\n",
       "      <td>1</td>\n",
       "    </tr>\n",
       "    <tr>\n",
       "      <th>1</th>\n",
       "      <td>5</td>\n",
       "      <td>64.0</td>\n",
       "      <td>2</td>\n",
       "      <td>NaN</td>\n",
       "      <td>R64</td>\n",
       "      <td>6-3 6-2 6-4</td>\n",
       "      <td>Grass</td>\n",
       "      <td>19680119</td>\n",
       "      <td>1968-580</td>\n",
       "      <td>G</td>\n",
       "      <td>...</td>\n",
       "      <td>NaN</td>\n",
       "      <td>R</td>\n",
       "      <td>NaN</td>\n",
       "      <td>106964</td>\n",
       "      <td>AUS</td>\n",
       "      <td>Ernie Mccabe</td>\n",
       "      <td>NaN</td>\n",
       "      <td>NaN</td>\n",
       "      <td>NaN</td>\n",
       "      <td>0</td>\n",
       "    </tr>\n",
       "    <tr>\n",
       "      <th>2</th>\n",
       "      <td>5</td>\n",
       "      <td>64.0</td>\n",
       "      <td>3</td>\n",
       "      <td>NaN</td>\n",
       "      <td>R64</td>\n",
       "      <td>6-4 3-6 6-3 7-5</td>\n",
       "      <td>Grass</td>\n",
       "      <td>19680119</td>\n",
       "      <td>1968-580</td>\n",
       "      <td>G</td>\n",
       "      <td>...</td>\n",
       "      <td>NaN</td>\n",
       "      <td>R</td>\n",
       "      <td>NaN</td>\n",
       "      <td>100257</td>\n",
       "      <td>AUS</td>\n",
       "      <td>Ross Case</td>\n",
       "      <td>NaN</td>\n",
       "      <td>NaN</td>\n",
       "      <td>NaN</td>\n",
       "      <td>1</td>\n",
       "    </tr>\n",
       "    <tr>\n",
       "      <th>3</th>\n",
       "      <td>5</td>\n",
       "      <td>64.0</td>\n",
       "      <td>4</td>\n",
       "      <td>NaN</td>\n",
       "      <td>R64</td>\n",
       "      <td>6-4 6-2 6-1</td>\n",
       "      <td>Grass</td>\n",
       "      <td>19680119</td>\n",
       "      <td>1968-580</td>\n",
       "      <td>G</td>\n",
       "      <td>...</td>\n",
       "      <td>NaN</td>\n",
       "      <td>R</td>\n",
       "      <td>NaN</td>\n",
       "      <td>110025</td>\n",
       "      <td>AUS</td>\n",
       "      <td>Robert Layton</td>\n",
       "      <td>NaN</td>\n",
       "      <td>NaN</td>\n",
       "      <td>NaN</td>\n",
       "      <td>0</td>\n",
       "    </tr>\n",
       "    <tr>\n",
       "      <th>4</th>\n",
       "      <td>5</td>\n",
       "      <td>64.0</td>\n",
       "      <td>5</td>\n",
       "      <td>NaN</td>\n",
       "      <td>R64</td>\n",
       "      <td>6-4 6-1 7-5</td>\n",
       "      <td>Grass</td>\n",
       "      <td>19680119</td>\n",
       "      <td>1968-580</td>\n",
       "      <td>G</td>\n",
       "      <td>...</td>\n",
       "      <td>NaN</td>\n",
       "      <td>R</td>\n",
       "      <td>NaN</td>\n",
       "      <td>109966</td>\n",
       "      <td>AUS</td>\n",
       "      <td>Warren Jacques</td>\n",
       "      <td>NaN</td>\n",
       "      <td>NaN</td>\n",
       "      <td>NaN</td>\n",
       "      <td>1</td>\n",
       "    </tr>\n",
       "  </tbody>\n",
       "</table>\n",
       "<p>5 rows × 51 columns</p>\n",
       "</div>"
      ],
      "text/plain": [
       "   best_of  draw_size  match_num  minutes round              score surface  \\\n",
       "0        5       64.0          1      NaN   R64  12-10 7-5 4-6 7-5   Grass   \n",
       "1        5       64.0          2      NaN   R64        6-3 6-2 6-4   Grass   \n",
       "2        5       64.0          3      NaN   R64    6-4 3-6 6-3 7-5   Grass   \n",
       "3        5       64.0          4      NaN   R64        6-4 6-2 6-1   Grass   \n",
       "4        5       64.0          5      NaN   R64        6-4 6-1 7-5   Grass   \n",
       "\n",
       "   tourney_date tourney_id tourney_level   ...   j1_entry j1_hand  j1_ht  \\\n",
       "0      19680119   1968-580             G   ...        NaN       R    NaN   \n",
       "1      19680119   1968-580             G   ...        NaN       R    NaN   \n",
       "2      19680119   1968-580             G   ...        NaN       R    NaN   \n",
       "3      19680119   1968-580             G   ...        NaN       R    NaN   \n",
       "4      19680119   1968-580             G   ...        NaN       R    NaN   \n",
       "\n",
       "    j1_id  j1_ioc            j1_name  j1_rank  j1_rank_points  j1_seed  target  \n",
       "0  110023     AUS  Richard Coulthard      NaN             NaN      NaN       1  \n",
       "1  106964     AUS       Ernie Mccabe      NaN             NaN      NaN       0  \n",
       "2  100257     AUS          Ross Case      NaN             NaN      NaN       1  \n",
       "3  110025     AUS      Robert Layton      NaN             NaN      NaN       0  \n",
       "4  109966     AUS     Warren Jacques      NaN             NaN      NaN       1  \n",
       "\n",
       "[5 rows x 51 columns]"
      ]
     },
     "execution_count": 8,
     "metadata": {},
     "output_type": "execute_result"
    }
   ],
   "source": [
    "df.head()"
   ]
  },
  {
   "cell_type": "markdown",
   "metadata": {},
   "source": [
    "# Exploration of data"
   ]
  },
  {
   "cell_type": "code",
   "execution_count": 9,
   "metadata": {},
   "outputs": [
    {
     "name": "stdout",
     "output_type": "stream",
     "text": [
      "nRows : 169690, nCols : 51\n"
     ]
    }
   ],
   "source": [
    "print(\"nRows : {}, nCols : {}\".format(df.shape[0], df.shape[1]))"
   ]
  },
  {
   "cell_type": "code",
   "execution_count": 10,
   "metadata": {},
   "outputs": [],
   "source": [
    "dfe = df.copy()"
   ]
  },
  {
   "cell_type": "markdown",
   "metadata": {},
   "source": [
    "The first rankings were published in August, 23rd 1973, so we can delete all row without rank as this value seems to be important for the bookmakers !"
   ]
  },
  {
   "cell_type": "code",
   "execution_count": 11,
   "metadata": {},
   "outputs": [],
   "source": [
    "dfe = dfe.loc[np.invert(dfe.j0_rank.isna()) & np.invert(dfe.j1_rank.isna())]\n",
    "dfe = dfe.loc[np.invert(dfe.j0_rank_points.isna()) & np.invert(dfe.j1_rank_points.isna())]"
   ]
  },
  {
   "cell_type": "markdown",
   "metadata": {},
   "source": [
    "Rows with 'None' or NaN for the surface will be removed as it is a pertinent variable for the prediction."
   ]
  },
  {
   "cell_type": "code",
   "execution_count": 12,
   "metadata": {},
   "outputs": [],
   "source": [
    "dfe = dfe.loc[np.invert(dfe.surface.isna())]\n",
    "dfe = dfe.loc[dfe.surface != \"None\"]"
   ]
  },
  {
   "cell_type": "code",
   "execution_count": 13,
   "metadata": {},
   "outputs": [
    {
     "name": "stdout",
     "output_type": "stream",
     "text": [
      "nRows : 92400, nCols : 51\n"
     ]
    }
   ],
   "source": [
    "print(\"nRows : {}, nCols : {}\".format(dfe.shape[0], dfe.shape[1]))"
   ]
  },
  {
   "cell_type": "code",
   "execution_count": 14,
   "metadata": {},
   "outputs": [
    {
     "name": "stdout",
     "output_type": "stream",
     "text": [
      "There are 92400 matches.\n",
      "There are 62645 different players.\n"
     ]
    }
   ],
   "source": [
    "print(\"There are {} matches.\".format(dfe.shape[0]))\n",
    "print(\"There are {} different players.\".format(len(list(set(dfe.j0_name + dfe.j1_name)))))"
   ]
  },
  {
   "cell_type": "markdown",
   "metadata": {},
   "source": [
    "There are 4 types of surface in the Tennis : Hard, Grass, Carpet, Clay."
   ]
  },
  {
   "cell_type": "code",
   "execution_count": 15,
   "metadata": {},
   "outputs": [
    {
     "data": {
      "image/png": "[encoded data removed]",
      "text/plain": [
       "<Figure size 600x600 with 1 Axes>"
      ]
     },
     "metadata": {},
     "output_type": "display_data"
    }
   ],
   "source": [
    "# pie chart of surface\n",
    "count_surface = dfe[[\"tourney_id\", \"surface\"]]\n",
    "count_surface = count_surface.groupby([\"surface\"]).agg('count')\n",
    "count_surface.reset_index(inplace=True)\n",
    "count_surface.columns=[\"surface\",\"Count\"]\n",
    "count_surface.sort_values(\"Count\", inplace=True)\n",
    "\n",
    "x = np.arange(count_surface.shape[0])\n",
    "ys = [i+x+(i*x)**2 for i in range(count_surface.shape[0])]\n",
    "colors = cm.rainbow(np.linspace(0, 1, len(ys)))\n",
    "\n",
    "plt.rc('font', weight='bold')\n",
    "f, ax = plt.subplots(figsize=(5,5), dpi=120)\n",
    "labels=count_surface.surface.values\n",
    "\n",
    "sizes=count_surface.Count.values\n",
    "\n",
    "explode = [0.9 if sizes[i] < 1000 else 0.0 for i in range(len(sizes))]\n",
    "ax.pie(sizes, explode = explode, labels=labels, colors = colors,\n",
    "       autopct = lambda x:'{:1.0f}%'.format(x) if x > 1 else '',\n",
    "       shadow = False, startangle=0, textprops={'fontsize': 7})\n",
    "ax.axis('equal')\n",
    "ax.set_title('Surface', bbox={'facecolor':'blue', 'pad':3}, color = 'w', fontsize=10)\n",
    "_ = ax"
   ]
  },
  {
   "cell_type": "code",
   "execution_count": 16,
   "metadata": {
    "scrolled": true
   },
   "outputs": [
    {
     "data": {
      "image/png": "[encoded data removed]",
      "text/plain": [
       "<Figure size 432x288 with 1 Axes>"
      ]
     },
     "metadata": {
      "needs_background": "light"
     },
     "output_type": "display_data"
    }
   ],
   "source": [
    "# bpFaced barplot\n",
    "dfe_bpFaced = dfe.groupby([\"target\"])[\"j0_bpFaced\",\"j1_bpFaced\"].agg('mean')\n",
    "dfe_bpFaced.reset_index(inplace=True)\n",
    "\n",
    "players=['player 0', 'player 1']\n",
    "lw=[0,1]\n",
    "pos = np.arange(len(players))\n",
    "bar_width = 0.35\n",
    "index_loser=dfe_bpFaced.iloc[0,1:].values\n",
    "index_winner=dfe_bpFaced.iloc[1,1:].values\n",
    "\n",
    "plt.bar(pos,index_loser,bar_width,color='red',edgecolor='black')\n",
    "plt.bar(pos+bar_width,index_winner,bar_width,color='green',edgecolor='black')\n",
    "plt.xticks(pos+0.1, players)\n",
    "plt.xlabel('', fontsize=16)\n",
    "plt.ylabel('Breakpoints faced', fontsize=15)\n",
    "plt.title('Barchart',fontsize=18)\n",
    "plt.legend(lw,loc=2)\n",
    "plt.show()"
   ]
  },
  {
   "cell_type": "markdown",
   "metadata": {},
   "source": [
    "The breakpoints faced is an important variable to predict a win of a match.<br>\n",
    "As I said before, the surface seems to be naturally a good predictor.<br>\n",
    "For example, Raphael Nadal may win Roger Federer in clay surface (Roland Garros) with a high probability.<br>\n",
    "That is why we binarize the surface variable."
   ]
  },
  {
   "cell_type": "code",
   "execution_count": 17,
   "metadata": {},
   "outputs": [
    {
     "data": {
      "text/html": [
       "<div>\n",
       "<style scoped>\n",
       "    .dataframe tbody tr th:only-of-type {\n",
       "        vertical-align: middle;\n",
       "    }\n",
       "\n",
       "    .dataframe tbody tr th {\n",
       "        vertical-align: top;\n",
       "    }\n",
       "\n",
       "    .dataframe thead th {\n",
       "        text-align: right;\n",
       "    }\n",
       "</style>\n",
       "<table border=\"1\" class=\"dataframe\">\n",
       "  <thead>\n",
       "    <tr style=\"text-align: right;\">\n",
       "      <th></th>\n",
       "      <th>Carpet</th>\n",
       "      <th>Clay</th>\n",
       "      <th>Grass</th>\n",
       "      <th>Hard</th>\n",
       "    </tr>\n",
       "  </thead>\n",
       "  <tbody>\n",
       "    <tr>\n",
       "      <th>73120</th>\n",
       "      <td>0</td>\n",
       "      <td>0</td>\n",
       "      <td>0</td>\n",
       "      <td>1</td>\n",
       "    </tr>\n",
       "    <tr>\n",
       "      <th>73121</th>\n",
       "      <td>0</td>\n",
       "      <td>0</td>\n",
       "      <td>0</td>\n",
       "      <td>1</td>\n",
       "    </tr>\n",
       "    <tr>\n",
       "      <th>73122</th>\n",
       "      <td>0</td>\n",
       "      <td>0</td>\n",
       "      <td>0</td>\n",
       "      <td>1</td>\n",
       "    </tr>\n",
       "    <tr>\n",
       "      <th>73123</th>\n",
       "      <td>0</td>\n",
       "      <td>0</td>\n",
       "      <td>0</td>\n",
       "      <td>1</td>\n",
       "    </tr>\n",
       "    <tr>\n",
       "      <th>73124</th>\n",
       "      <td>0</td>\n",
       "      <td>0</td>\n",
       "      <td>0</td>\n",
       "      <td>1</td>\n",
       "    </tr>\n",
       "  </tbody>\n",
       "</table>\n",
       "</div>"
      ],
      "text/plain": [
       "       Carpet  Clay  Grass  Hard\n",
       "73120       0     0      0     1\n",
       "73121       0     0      0     1\n",
       "73122       0     0      0     1\n",
       "73123       0     0      0     1\n",
       "73124       0     0      0     1"
      ]
     },
     "execution_count": 17,
     "metadata": {},
     "output_type": "execute_result"
    }
   ],
   "source": [
    "# Binarize surface\n",
    "df_surface = dfe.surface.str.get_dummies()\n",
    "df_surface.head()"
   ]
  },
  {
   "cell_type": "code",
   "execution_count": 18,
   "metadata": {},
   "outputs": [
    {
     "data": {
      "image/png": "[encoded data removed]",
      "text/plain": [
       "<Figure size 432x288 with 1 Axes>"
      ]
     },
     "metadata": {
      "needs_background": "light"
     },
     "output_type": "display_data"
    }
   ],
   "source": [
    "ax = sns.boxplot(x=\"surface\", y=\"j1_rank_points\", hue=\"target\", data=dfe, palette=['blue','red'])\n",
    "ax.set_ylim([0, 5000])\n",
    "ax.set_ylabel(\"rank points\")\n",
    "_ = ax"
   ]
  },
  {
   "cell_type": "markdown",
   "metadata": {},
   "source": [
    "The rank points is an important data because it allows to justify the level of the player. So, if the player has a huge rank, he could win the match very easily."
   ]
  },
  {
   "cell_type": "code",
   "execution_count": 19,
   "metadata": {},
   "outputs": [
    {
     "data": {
      "image/png": "[encoded data removed]",
      "text/plain": [
       "<Figure size 432x288 with 1 Axes>"
      ]
     },
     "metadata": {
      "needs_background": "light"
     },
     "output_type": "display_data"
    }
   ],
   "source": [
    "ax = sns.boxplot(x=\"target\", y=\"j1_rank_points\", data=dfe, palette=[\"blue\",\"red\"])\n",
    "ax.set_ylim([0,4000])\n",
    "ax.set_ylabel('rank points')\n",
    "_ = ax"
   ]
  },
  {
   "cell_type": "markdown",
   "metadata": {},
   "source": [
    "# Prediction\n",
    "In this section, I would suggest 4 different algorithms (supervised): Logistic regression (lr), Gradient boosting (gb), k-nearest neighbors (knn), Random forest (rf). For each model, the metric will be the AUC (ROC Curve) using a gridsearchcv to determine the best estimator for the prediction.\n",
    "## Class implementation"
   ]
  },
  {
   "cell_type": "code",
   "execution_count": 20,
   "metadata": {},
   "outputs": [],
   "source": [
    "class Model:\n",
    "    def __init__(self,data,seed,random_sample):\n",
    "        self.random_sample = random_sample\n",
    "        self.seed = seed\n",
    "        \n",
    "        self.data = data.sample(frac=self.random_sample, replace=False, random_state=self.seed)\n",
    "        \n",
    "        self.lr=None\n",
    "        self.pred_train=None\n",
    "        self.pred_test=None\n",
    "    def split(self, test_size):\n",
    "        self.test_size = test_size\n",
    "        train_X, test_X, train_y, test_y = train_test_split(self.data,self.data['target'], test_size = test_size, random_state=self.seed)\n",
    "        self.train_X = train_X.drop(columns=['target'])\n",
    "        self.test_X = test_X.drop(columns=['target'])\n",
    "        self.train_y = train_y\n",
    "        self.test_y = test_y\n",
    "    def model_LR(self,n_jobs,cv,regul):\n",
    "        self.regul = regul\n",
    "        if regul=='none':\n",
    "            n_iters = np.array([50, 200])\n",
    "            model = linear_model.SGDClassifier(loss='log', random_state=0, penalty=self.regul)\n",
    "            grid = GridSearchCV(estimator=model, param_grid=dict(n_iter=n_iters), scoring='roc_auc', n_jobs=n_jobs, cv=cv, verbose=1)\n",
    "            grid.fit(self.train_X,self.train_y)\n",
    "            self.grid = grid\n",
    "        elif regul=='elasticnet':\n",
    "            n_iters = np.array([50, 200])\n",
    "            alphas = np.logspace(-5, 1, 5)\n",
    "            l1_ratios = np.array([0, 0.15, 0.3, 0.4, 0.5, 0.6, 0.85, 1])\n",
    "            model = linear_model.SGDClassifier(loss='log', random_state=0, penalty=self.regul,n_iter=100,max_iter=100)\n",
    "            grid = GridSearchCV(estimator=model, param_grid=dict(alpha=alphas,l1_ratio=l1_ratios), scoring='roc_auc', n_jobs=n_jobs, cv=cv, verbose=1)\n",
    "            grid.fit(self.train_X,self.train_y)\n",
    "            self.grid = grid\n",
    "        return self.lr\n",
    "    def model_GB(self,n_jobs,cv):\n",
    "        param_grid = {'n_estimators' : [10, 20, 30, 40, 50, 60, 70, 80, 90, 100,150,200],\n",
    "                      'learning_rate':[0.1,0.2,0.5,0.7,0.9,1]}\n",
    "        model = ensemble.GradientBoostingClassifier()\n",
    "        grid = GridSearchCV(estimator=model, param_grid=param_grid, scoring='roc_auc', n_jobs=n_jobs, cv=cv, verbose=1)\n",
    "        grid.fit(self.train_X,self.train_y)\n",
    "        self.grid = grid\n",
    "    def model_KNN(self,n_jobs,cv):\n",
    "        param_grid = {'n_neighbors': np.arange(1,310,10)}\n",
    "        model = neighbors.KNeighborsClassifier()\n",
    "        grid = GridSearchCV(estimator=model, param_grid=param_grid, scoring='roc_auc', n_jobs=n_jobs, cv=cv, verbose=1)\n",
    "        grid.fit(self.train_X,self.train_y)\n",
    "        self.grid = grid\n",
    "    def model_RF(self,n_jobs,cv):\n",
    "        param_grid = {'criterion' : ['entropy', 'gini'],\n",
    "                      'n_estimators' : [20, 40, 60, 80, 100, 120, 160, 200, 250, 300],\n",
    "                      'max_features' :['sqrt', 'log2']}\n",
    "        model = ensemble.RandomForestClassifier()\n",
    "        grid = GridSearchCV(estimator=model, param_grid=param_grid, scoring='roc_auc', n_jobs=n_jobs, cv=cv, verbose=1)\n",
    "        grid.fit(self.train_X,self.train_y)\n",
    "        self.grid = grid\n",
    "    def predict(self):\n",
    "        self.pred_train = self.grid.best_estimator_.predict_proba(X=self.train_X)\n",
    "        self.pred_test = self.grid.best_estimator_.predict_proba(X=self.test_X)\n",
    "    def get_AUC(self):\n",
    "        self.train_auc=metrics.roc_auc_score(y_score=self.grid.best_estimator_.predict_proba(X=self.train_X)[:,1], y_true=self.train_y)\n",
    "        self.test_auc=metrics.roc_auc_score(y_score=self.grid.best_estimator_.predict_proba(X=self.test_X)[:,1], y_true=self.test_y)\n",
    "        return (self.train_auc,self.test_auc)\n",
    "    ### get contingency table + recall precision + roc curve !!!\n",
    "    def boxplot(self):\n",
    "        plt.figure()\n",
    "        plt.subplot(1,2,1)\n",
    "        sns.boxplot(x=self.train_y.values, y=self.grid.best_estimator_.predict_proba(X=self.train_X.values)[:,1])\n",
    "        plt.title('Train')\n",
    "        plt.subplot(1,2,2)\n",
    "        sns.boxplot(x=self.test_y.values, y=self.grid.best_estimator_.predict_proba(X=self.test_X.values)[:,1])\n",
    "        plt.title('Test')\n",
    "        return plt\n",
    "    def rocCurve(self):\n",
    "        plt.figure()\n",
    "        plt.subplot(1,2,1)\n",
    "        fpr, tpr, thresholds = metrics.roc_curve(y_score=self.grid.best_estimator_.predict_proba(X=self.train_X)[:,1], y_true=self.train_y)\n",
    "        plt.plot(fpr, tpr,'r')\n",
    "        plt.plot([0,1],[0,1],'b')\n",
    "        plt.title('Train, AUC: {}'.format(round(metrics.auc(fpr,tpr),3)))\n",
    "        \n",
    "        plt.subplot(1,2,2)\n",
    "        fpr, tpr, thresholds = metrics.roc_curve(y_score=self.grid.best_estimator_.predict_proba(X=self.test_X)[:,1], y_true=self.test_y)\n",
    "        plt.plot(fpr, tpr,'r')\n",
    "        plt.plot([0,1],[0,1],'b')\n",
    "        plt.title('Test, AUC: {}'.format(round(metrics.auc(fpr,tpr),3)))\n",
    "        return plt\n",
    "    def confusion(self,set_):\n",
    "        if set_ == \"train\":\n",
    "            res = metrics.confusion_matrix(y_true=self.train_y,y_pred=self.pred_train)\n",
    "        elif set_ == \"test\":\n",
    "            res = metrics.confusion_matrix(y_true=self.test_y,y_pred=self.pred_test)\n",
    "        return res\n",
    "    def getAccuracy(self):\n",
    "        res=(metrics.accuracy_score(y_true=self.train_y,y_pred=self.pred_train),\n",
    "            metrics.accuracy_score(y_true=self.test_y,y_pred=self.pred_test))\n",
    "        return res\n",
    "    def getClassificationReport(self,set_):\n",
    "        if set_ == \"train\":\n",
    "            res = metrics.classification_report(self.train_y, self.pred_train)\n",
    "        elif set_ == \"test\":\n",
    "            res = metrics.classification_report(self.test_y, self.pred_test)\n",
    "        return res"
   ]
  },
  {
   "cell_type": "markdown",
   "metadata": {},
   "source": [
    "The model contains the rank points (rank_points) and the breakpoints faced (bpFaced) for each player as predictors, the surface (binarized).<br>\n",
    "The rank points will be replaced by its log-transformation."
   ]
  },
  {
   "cell_type": "code",
   "execution_count": 21,
   "metadata": {},
   "outputs": [
    {
     "name": "stderr",
     "output_type": "stream",
     "text": [
      "C:\\Users\\HAZRAK\\AppData\\Local\\Continuum\\anaconda3\\lib\\site-packages\\pandas\\core\\frame.py:3140: SettingWithCopyWarning: \n",
      "A value is trying to be set on a copy of a slice from a DataFrame.\n",
      "Try using .loc[row_indexer,col_indexer] = value instead\n",
      "\n",
      "See the caveats in the documentation: http://pandas.pydata.org/pandas-docs/stable/indexing.html#indexing-view-versus-copy\n",
      "  self[k1] = value[k2]\n",
      "C:\\Users\\HAZRAK\\AppData\\Local\\Continuum\\anaconda3\\lib\\site-packages\\ipykernel_launcher.py:3: SettingWithCopyWarning: \n",
      "A value is trying to be set on a copy of a slice from a DataFrame\n",
      "\n",
      "See the caveats in the documentation: http://pandas.pydata.org/pandas-docs/stable/indexing.html#indexing-view-versus-copy\n",
      "  This is separate from the ipykernel package so we can avoid doing imports until\n",
      "C:\\Users\\HAZRAK\\AppData\\Local\\Continuum\\anaconda3\\lib\\site-packages\\pandas\\core\\generic.py:4405: SettingWithCopyWarning: \n",
      "A value is trying to be set on a copy of a slice from a DataFrame.\n",
      "Try using .loc[row_indexer,col_indexer] = value instead\n",
      "\n",
      "See the caveats in the documentation: http://pandas.pydata.org/pandas-docs/stable/indexing.html#indexing-view-versus-copy\n",
      "  self[name] = value\n"
     ]
    }
   ],
   "source": [
    "dfm = dfe[[\"target\",\"j0_rank_points\",\"j1_rank_points\",\"j0_bpFaced\",\"j1_bpFaced\"]]\n",
    "dfm[df_surface.columns] = df_surface\n",
    "dfm.dropna(inplace=True)\n",
    "\n",
    "dfm.j0_rank_points = dfm.j0_rank_points.apply(lambda x: math.log(x))\n",
    "dfm.j1_rank_points = dfm.j1_rank_points.apply(lambda x: math.log(x))"
   ]
  },
  {
   "cell_type": "code",
   "execution_count": 22,
   "metadata": {},
   "outputs": [
    {
     "data": {
      "text/html": [
       "<div>\n",
       "<style scoped>\n",
       "    .dataframe tbody tr th:only-of-type {\n",
       "        vertical-align: middle;\n",
       "    }\n",
       "\n",
       "    .dataframe tbody tr th {\n",
       "        vertical-align: top;\n",
       "    }\n",
       "\n",
       "    .dataframe thead th {\n",
       "        text-align: right;\n",
       "    }\n",
       "</style>\n",
       "<table border=\"1\" class=\"dataframe\">\n",
       "  <thead>\n",
       "    <tr style=\"text-align: right;\">\n",
       "      <th></th>\n",
       "      <th>target</th>\n",
       "      <th>j0_rank_points</th>\n",
       "      <th>j1_rank_points</th>\n",
       "      <th>j0_bpFaced</th>\n",
       "      <th>j1_bpFaced</th>\n",
       "      <th>Carpet</th>\n",
       "      <th>Clay</th>\n",
       "      <th>Grass</th>\n",
       "      <th>Hard</th>\n",
       "    </tr>\n",
       "  </thead>\n",
       "  <tbody>\n",
       "    <tr>\n",
       "      <th>76863</th>\n",
       "      <td>0</td>\n",
       "      <td>7.304516</td>\n",
       "      <td>6.129050</td>\n",
       "      <td>6.0</td>\n",
       "      <td>6.0</td>\n",
       "      <td>0</td>\n",
       "      <td>0</td>\n",
       "      <td>0</td>\n",
       "      <td>1</td>\n",
       "    </tr>\n",
       "    <tr>\n",
       "      <th>76864</th>\n",
       "      <td>1</td>\n",
       "      <td>4.736198</td>\n",
       "      <td>5.916202</td>\n",
       "      <td>11.0</td>\n",
       "      <td>2.0</td>\n",
       "      <td>0</td>\n",
       "      <td>0</td>\n",
       "      <td>0</td>\n",
       "      <td>1</td>\n",
       "    </tr>\n",
       "    <tr>\n",
       "      <th>76865</th>\n",
       "      <td>0</td>\n",
       "      <td>6.148468</td>\n",
       "      <td>4.753590</td>\n",
       "      <td>4.0</td>\n",
       "      <td>8.0</td>\n",
       "      <td>0</td>\n",
       "      <td>0</td>\n",
       "      <td>0</td>\n",
       "      <td>1</td>\n",
       "    </tr>\n",
       "    <tr>\n",
       "      <th>76866</th>\n",
       "      <td>1</td>\n",
       "      <td>6.180017</td>\n",
       "      <td>6.218600</td>\n",
       "      <td>12.0</td>\n",
       "      <td>10.0</td>\n",
       "      <td>0</td>\n",
       "      <td>0</td>\n",
       "      <td>0</td>\n",
       "      <td>1</td>\n",
       "    </tr>\n",
       "    <tr>\n",
       "      <th>76867</th>\n",
       "      <td>0</td>\n",
       "      <td>4.955827</td>\n",
       "      <td>6.775366</td>\n",
       "      <td>2.0</td>\n",
       "      <td>6.0</td>\n",
       "      <td>0</td>\n",
       "      <td>0</td>\n",
       "      <td>0</td>\n",
       "      <td>1</td>\n",
       "    </tr>\n",
       "  </tbody>\n",
       "</table>\n",
       "</div>"
      ],
      "text/plain": [
       "       target  j0_rank_points  j1_rank_points  j0_bpFaced  j1_bpFaced  Carpet  \\\n",
       "76863       0        7.304516        6.129050         6.0         6.0       0   \n",
       "76864       1        4.736198        5.916202        11.0         2.0       0   \n",
       "76865       0        6.148468        4.753590         4.0         8.0       0   \n",
       "76866       1        6.180017        6.218600        12.0        10.0       0   \n",
       "76867       0        4.955827        6.775366         2.0         6.0       0   \n",
       "\n",
       "       Clay  Grass  Hard  \n",
       "76863     0      0     1  \n",
       "76864     0      0     1  \n",
       "76865     0      0     1  \n",
       "76866     0      0     1  \n",
       "76867     0      0     1  "
      ]
     },
     "execution_count": 22,
     "metadata": {},
     "output_type": "execute_result"
    }
   ],
   "source": [
    "dfm.head()"
   ]
  },
  {
   "cell_type": "markdown",
   "metadata": {},
   "source": [
    "## Logistic regression (lr)"
   ]
  },
  {
   "cell_type": "code",
   "execution_count": 23,
   "metadata": {},
   "outputs": [
    {
     "name": "stdout",
     "output_type": "stream",
     "text": [
      "Fitting 4 folds for each of 40 candidates, totalling 160 fits\n"
     ]
    },
    {
     "name": "stderr",
     "output_type": "stream",
     "text": [
      "[Parallel(n_jobs=8)]: Done  34 tasks      | elapsed:   18.2s\n",
      "[Parallel(n_jobs=8)]: Done 160 out of 160 | elapsed:   59.6s finished\n",
      "C:\\Users\\HAZRAK\\AppData\\Local\\Continuum\\anaconda3\\lib\\site-packages\\sklearn\\linear_model\\stochastic_gradient.py:117: DeprecationWarning: n_iter parameter is deprecated in 0.19 and will be removed in 0.21. Use max_iter and tol instead.\n",
      "  DeprecationWarning)\n"
     ]
    }
   ],
   "source": [
    "lr = Model(data=dfm,seed=123,random_sample=1)\n",
    "lr.split(0.35)\n",
    "lr.model_LR(cv=4,n_jobs=8,regul=\"elasticnet\")\n",
    "lr.predict()"
   ]
  },
  {
   "cell_type": "code",
   "execution_count": 24,
   "metadata": {},
   "outputs": [
    {
     "data": {
      "image/png": "[encoded data removed]",
      "text/plain": [
       "<Figure size 432x288 with 2 Axes>"
      ]
     },
     "metadata": {
      "needs_background": "light"
     },
     "output_type": "display_data"
    }
   ],
   "source": [
    "_ = lr.rocCurve()"
   ]
  },
  {
   "cell_type": "code",
   "execution_count": 25,
   "metadata": {},
   "outputs": [
    {
     "data": {
      "image/png": "[encoded data removed]",
      "text/plain": [
       "<Figure size 432x288 with 2 Axes>"
      ]
     },
     "metadata": {
      "needs_background": "light"
     },
     "output_type": "display_data"
    }
   ],
   "source": [
    "_ = lr.boxplot()"
   ]
  },
  {
   "cell_type": "code",
   "execution_count": 26,
   "metadata": {},
   "outputs": [
    {
     "data": {
      "text/plain": [
       "{'alpha': 0.01, 'l1_ratio': 0.0}"
      ]
     },
     "execution_count": 26,
     "metadata": {},
     "output_type": "execute_result"
    }
   ],
   "source": [
    "lr.grid.best_params_"
   ]
  },
  {
   "cell_type": "markdown",
   "metadata": {},
   "source": [
    "## Gradient boosting (gb)"
   ]
  },
  {
   "cell_type": "code",
   "execution_count": 27,
   "metadata": {},
   "outputs": [
    {
     "name": "stdout",
     "output_type": "stream",
     "text": [
      "Fitting 4 folds for each of 72 candidates, totalling 288 fits\n"
     ]
    },
    {
     "name": "stderr",
     "output_type": "stream",
     "text": [
      "[Parallel(n_jobs=8)]: Done  34 tasks      | elapsed:   29.3s\n",
      "[Parallel(n_jobs=8)]: Done 184 tasks      | elapsed:  2.5min\n",
      "[Parallel(n_jobs=8)]: Done 288 out of 288 | elapsed:  4.1min finished\n"
     ]
    }
   ],
   "source": [
    "gb = Model(data=dfm,seed=123,random_sample=1)\n",
    "gb.split(0.35)\n",
    "gb.model_GB(cv=4,n_jobs=8)\n",
    "gb.predict()"
   ]
  },
  {
   "cell_type": "code",
   "execution_count": 28,
   "metadata": {},
   "outputs": [
    {
     "data": {
      "image/png": "[encoded data removed]",
      "text/plain": [
       "<Figure size 432x288 with 2 Axes>"
      ]
     },
     "metadata": {
      "needs_background": "light"
     },
     "output_type": "display_data"
    }
   ],
   "source": [
    "_ = gb.rocCurve()"
   ]
  },
  {
   "cell_type": "code",
   "execution_count": 29,
   "metadata": {},
   "outputs": [
    {
     "data": {
      "image/png": "[encoded data removed]",
      "text/plain": [
       "<Figure size 432x288 with 2 Axes>"
      ]
     },
     "metadata": {
      "needs_background": "light"
     },
     "output_type": "display_data"
    }
   ],
   "source": [
    "_ = gb.boxplot()"
   ]
  },
  {
   "cell_type": "code",
   "execution_count": 30,
   "metadata": {},
   "outputs": [
    {
     "data": {
      "text/plain": [
       "{'learning_rate': 0.1, 'n_estimators': 150}"
      ]
     },
     "execution_count": 30,
     "metadata": {},
     "output_type": "execute_result"
    }
   ],
   "source": [
    "gb.grid.best_params_"
   ]
  },
  {
   "cell_type": "markdown",
   "metadata": {},
   "source": [
    "## K nearest neighbors (knn)"
   ]
  },
  {
   "cell_type": "code",
   "execution_count": 31,
   "metadata": {},
   "outputs": [
    {
     "name": "stdout",
     "output_type": "stream",
     "text": [
      "Fitting 4 folds for each of 31 candidates, totalling 124 fits\n"
     ]
    },
    {
     "name": "stderr",
     "output_type": "stream",
     "text": [
      "[Parallel(n_jobs=8)]: Done  34 tasks      | elapsed:  2.0min\n",
      "[Parallel(n_jobs=8)]: Done 124 out of 124 | elapsed: 10.7min finished\n"
     ]
    }
   ],
   "source": [
    "knn = Model(data=dfm,seed=123,random_sample=1)\n",
    "knn.split(0.35)\n",
    "knn.model_KNN(cv=4,n_jobs=8)\n",
    "knn.predict()"
   ]
  },
  {
   "cell_type": "code",
   "execution_count": 32,
   "metadata": {},
   "outputs": [
    {
     "data": {
      "image/png": "[encoded data removed]",
      "text/plain": [
       "<Figure size 432x288 with 2 Axes>"
      ]
     },
     "metadata": {
      "needs_background": "light"
     },
     "output_type": "display_data"
    }
   ],
   "source": [
    "_ = knn.rocCurve()"
   ]
  },
  {
   "cell_type": "code",
   "execution_count": 33,
   "metadata": {},
   "outputs": [
    {
     "data": {
      "image/png": "[encoded data removed]",
      "text/plain": [
       "<Figure size 432x288 with 2 Axes>"
      ]
     },
     "metadata": {
      "needs_background": "light"
     },
     "output_type": "display_data"
    }
   ],
   "source": [
    "_ = knn.boxplot()"
   ]
  },
  {
   "cell_type": "code",
   "execution_count": 34,
   "metadata": {},
   "outputs": [
    {
     "data": {
      "text/plain": [
       "{'n_neighbors': 221}"
      ]
     },
     "execution_count": 34,
     "metadata": {},
     "output_type": "execute_result"
    }
   ],
   "source": [
    "knn.grid.best_params_"
   ]
  },
  {
   "cell_type": "markdown",
   "metadata": {},
   "source": [
    "## Random forest (rf)"
   ]
  },
  {
   "cell_type": "code",
   "execution_count": null,
   "metadata": {},
   "outputs": [
    {
     "name": "stdout",
     "output_type": "stream",
     "text": [
      "Fitting 4 folds for each of 40 candidates, totalling 160 fits\n"
     ]
    },
    {
     "name": "stderr",
     "output_type": "stream",
     "text": [
      "[Parallel(n_jobs=4)]: Done  42 tasks      | elapsed:  2.6min\n"
     ]
    }
   ],
   "source": [
    "rf = Model(data=dfm,seed=123,random_sample=1)\n",
    "rf.split(0.35)\n",
    "rf.model_RF(cv=4,n_jobs=8)\n",
    "rf.predict()"
   ]
  },
  {
   "cell_type": "code",
   "execution_count": null,
   "metadata": {},
   "outputs": [],
   "source": [
    "_ = rf.rocCurve()"
   ]
  },
  {
   "cell_type": "markdown",
   "metadata": {},
   "source": [
    "There is overfitting of data using the random forest algorithm."
   ]
  },
  {
   "cell_type": "code",
   "execution_count": null,
   "metadata": {},
   "outputs": [],
   "source": [
    "_ = rf.boxplot()"
   ]
  },
  {
   "cell_type": "code",
   "execution_count": null,
   "metadata": {},
   "outputs": [],
   "source": [
    "rf.grid.best_params_"
   ]
  },
  {
   "cell_type": "markdown",
   "metadata": {},
   "source": [
    "# Conclusion/Discussion"
   ]
  },
  {
   "cell_type": "markdown",
   "metadata": {},
   "source": [
    "As a conclusion, all models developped have a good diagnostic performance in train/test set (AUC = 0.90) except for the random forest because of the overfitting. Nevertheless, if I had to choose one model, I choose the one based on the gradient boosting because there are a few outliers compared to the others.<br>\n",
    "\n",
    "Note that is not easy to collect some data like the breakpoints faced for further predictions. As a matter of fact, if we want to create an api which is going to give the probability of the winner. We have to collect the rank points and surface used which are very easy. But the breakpoints faced will be missed. To pass this obstacle, the solution will be to develop a knn model based on rank points and surface in order to predict the breakpoints faced (as a continuous variable), for each player. Then, after predicting the value of breakpoints faced, the prediction of the winner can be done.<br>\n",
    "\n",
    "Another suggestion : use the module \"VotingClassifier\" which can combine multiple different models into a single model (which is stronger than any of the individual models alone)."
   ]
  },
  {
   "cell_type": "code",
   "execution_count": null,
   "metadata": {},
   "outputs": [],
   "source": []
  }
 ],
 "metadata": {
  "kernelspec": {
   "display_name": "Python 3",
   "language": "python",
   "name": "python3"
  },
  "language_info": {
   "codemirror_mode": {
    "name": "ipython",
    "version": 3
   },
   "file_extension": ".py",
   "mimetype": "text/x-python",
   "name": "python",
   "nbconvert_exporter": "python",
   "pygments_lexer": "ipython3",
   "version": "3.7.0"
  }
 },
 "nbformat": 4,
 "nbformat_minor": 2
}
