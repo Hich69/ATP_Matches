{
 "cells": [
  {
   "cell_type": "code",
   "execution_count": 107,
   "metadata": {},
   "outputs": [],
   "source": [
    "import pandas as pd\n",
    "import numpy as np\n",
    "import matplotlib.pyplot as plt\n",
    "import os, math\n",
    "from datetime import datetime\n",
    "import seaborn as sns\n",
    "import matplotlib.cm as cm\n",
    "\n",
    "from sklearn import neighbors, linear_model, svm, tree, ensemble\n",
    "from sklearn.model_selection import GridSearchCV\n",
    "from sklearn.metrics import confusion_matrix,roc_auc_score\n",
    "from sklearn import metrics\n",
    "from sklearn.model_selection import train_test_split"
   ]
  },
  {
   "cell_type": "markdown",
   "metadata": {},
   "source": [
    "# Import data"
   ]
  },
  {
   "cell_type": "code",
   "execution_count": 2,
   "metadata": {},
   "outputs": [],
   "source": [
    "dat = pd.read_csv(\"../data/ATP.csv\")"
   ]
  },
  {
   "cell_type": "markdown",
   "metadata": {},
   "source": [
    "# convert date as datatime"
   ]
  },
  {
   "cell_type": "code",
   "execution_count": 3,
   "metadata": {},
   "outputs": [],
   "source": [
    "dat['date'] = dat.tourney_date.apply(lambda t: datetime.strptime(str(t), '%Y%m%d'))"
   ]
  },
  {
   "cell_type": "markdown",
   "metadata": {
    "scrolled": true
   },
   "source": [
    "# change format of initial dataframe"
   ]
  },
  {
   "cell_type": "code",
   "execution_count": 4,
   "metadata": {},
   "outputs": [],
   "source": [
    "colnames = dict()\n",
    "colnames['type1'] = ['1stIn', '1stWon', '2ndWon', 'SvGms', 'ace', 'bpFaced', 'bpSaved', 'df', 'svpt']\n",
    "colnames['type2'] = ['age', 'entry', 'hand', 'ht', 'id', 'ioc', 'name', 'rank', 'rank_points', 'seed']\n",
    "colnames['type3'] = ['best_of', 'draw_size', 'match_num', 'minutes', 'round', 'score', 'surface', 'tourney_date',\n",
    "                     'tourney_id', 'tourney_level', 'tourney_name', 'date']"
   ]
  },
  {
   "cell_type": "code",
   "execution_count": 5,
   "metadata": {},
   "outputs": [],
   "source": [
    "df = pd.DataFrame()\n",
    "mat = []\n",
    "for i in dat.index:\n",
    "    row = []\n",
    "    for col in colnames['type3']:\n",
    "        row.append(dat[col][i])\n",
    "    if i % 2 == 0: #j0\n",
    "        # j0=loser, j1=winner\n",
    "        for col in colnames['type1']:\n",
    "            row.append(dat['l_'+col][i])\n",
    "        for col in colnames['type2']:\n",
    "            row.append(dat['loser_'+col][i])\n",
    "        for col in colnames['type1']:\n",
    "            row.append(dat['w_'+col][i])\n",
    "        for col in colnames['type2']:\n",
    "            row.append(dat['winner_'+col][i])\n",
    "        row.append(1) #target winner --> j1\n",
    "    else: #j1\n",
    "        # j0=winner, j1=loser\n",
    "        for col in colnames['type1']:\n",
    "            row.append(dat['w_'+col][i])\n",
    "        for col in colnames['type2']:\n",
    "            row.append(dat['winner_'+col][i])\n",
    "        for col in colnames['type1']:\n",
    "            row.append(dat['l_'+col][i])\n",
    "        for col in colnames['type2']:\n",
    "            row.append(dat['loser_'+col][i])\n",
    "        row.append(0) #target winner --> j0\n",
    "    mat.append(row)"
   ]
  },
  {
   "cell_type": "code",
   "execution_count": 6,
   "metadata": {},
   "outputs": [],
   "source": [
    "colDataFrame = colnames['type3']\n",
    "for col in colnames['type1']:\n",
    "    colDataFrame.append('j0_'+col)\n",
    "for col in colnames['type2']:\n",
    "    colDataFrame.append('j0_'+col)\n",
    "for col in colnames['type1']:\n",
    "    colDataFrame.append('j1_'+col)\n",
    "for col in colnames['type2']:\n",
    "    colDataFrame.append('j1_'+col)\n",
    "colDataFrame.append(\"target\")"
   ]
  },
  {
   "cell_type": "code",
   "execution_count": 7,
   "metadata": {},
   "outputs": [],
   "source": [
    "df = pd.DataFrame(columns=colDataFrame, data=mat)"
   ]
  },
  {
   "cell_type": "code",
   "execution_count": 8,
   "metadata": {},
   "outputs": [],
   "source": [
    "df.to_csv(\"../data/ATP_.csv\", sep=\";\", index=False)"
   ]
  },
  {
   "cell_type": "code",
   "execution_count": null,
   "metadata": {
    "scrolled": true
   },
   "outputs": [],
   "source": []
  },
  {
   "cell_type": "markdown",
   "metadata": {},
   "source": [
    "# Exploration of data"
   ]
  },
  {
   "cell_type": "code",
   "execution_count": 82,
   "metadata": {},
   "outputs": [],
   "source": [
    "dateparse = lambda x:datetime.strptime(x,'%Y-%m-%d').date()"
   ]
  },
  {
   "cell_type": "code",
   "execution_count": 83,
   "metadata": {},
   "outputs": [
    {
     "name": "stdout",
     "output_type": "stream",
     "text": [
      "nRows : 169690, nCols : 51\n"
     ]
    }
   ],
   "source": [
    "df = pd.read_csv(\"../data/ATP_.csv\", sep=\";\")\n",
    "print(\"nRows : {}, nCols : {}\".format(df.shape[0], df.shape[1]))"
   ]
  },
  {
   "cell_type": "code",
   "execution_count": 85,
   "metadata": {},
   "outputs": [],
   "source": [
    "df['date'] = df['date'].apply(dateparse)"
   ]
  },
  {
   "cell_type": "code",
   "execution_count": null,
   "metadata": {},
   "outputs": [],
   "source": []
  },
  {
   "cell_type": "code",
   "execution_count": 42,
   "metadata": {},
   "outputs": [],
   "source": [
    "dfe = df.copy()"
   ]
  },
  {
   "cell_type": "markdown",
   "metadata": {},
   "source": [
    "The first rankings were published in August, 23rd 1973, so we can delete all row without rank as this value seems to be important for the bookmakers !"
   ]
  },
  {
   "cell_type": "code",
   "execution_count": 43,
   "metadata": {},
   "outputs": [],
   "source": [
    "dfe = dfe.loc[np.invert(dfe.j0_rank.isna()) & np.invert(dfe.j1_rank.isna())]\n",
    "dfe = dfe.loc[np.invert(dfe.j0_rank_points.isna()) & np.invert(dfe.j1_rank_points.isna())]\n",
    "dfe = dfe.loc[np.invert(dfe.surface.isna())]\n",
    "dfe = dfe.loc[np.invert(dfe.j0_age.isna()) & np.invert(dfe.j1_age.isna())]\n",
    "dfe = dfe.loc[dfe.surface != \"None\"]"
   ]
  },
  {
   "cell_type": "code",
   "execution_count": 44,
   "metadata": {},
   "outputs": [
    {
     "name": "stdout",
     "output_type": "stream",
     "text": [
      "There are 92271 matches since 73120   1990-01-01\n",
      "Name: date, dtype: datetime64[ns]\n",
      "There are 62519 different players\n"
     ]
    }
   ],
   "source": [
    "print(\"There are {} matches since {}\".format(dfe.shape[0], dfe.date[0:1]))\n",
    "print(\"There are {} different players\".format(len(list(set(dfe.j0_name + dfe.j1_name)))))"
   ]
  },
  {
   "cell_type": "code",
   "execution_count": null,
   "metadata": {},
   "outputs": [],
   "source": []
  },
  {
   "cell_type": "code",
   "execution_count": 45,
   "metadata": {},
   "outputs": [
    {
     "data": {
      "text/plain": [
       "array(['Hard', 'Grass', 'Carpet', 'Clay'], dtype=object)"
      ]
     },
     "execution_count": 45,
     "metadata": {},
     "output_type": "execute_result"
    }
   ],
   "source": [
    "dfe.surface.unique()"
   ]
  },
  {
   "cell_type": "code",
   "execution_count": null,
   "metadata": {},
   "outputs": [],
   "source": []
  },
  {
   "cell_type": "code",
   "execution_count": 46,
   "metadata": {},
   "outputs": [
    {
     "data": {
      "text/html": [
       "<div>\n",
       "<style scoped>\n",
       "    .dataframe tbody tr th:only-of-type {\n",
       "        vertical-align: middle;\n",
       "    }\n",
       "\n",
       "    .dataframe tbody tr th {\n",
       "        vertical-align: top;\n",
       "    }\n",
       "\n",
       "    .dataframe thead th {\n",
       "        text-align: right;\n",
       "    }\n",
       "</style>\n",
       "<table border=\"1\" class=\"dataframe\">\n",
       "  <thead>\n",
       "    <tr style=\"text-align: right;\">\n",
       "      <th></th>\n",
       "      <th>surface</th>\n",
       "      <th>Count</th>\n",
       "    </tr>\n",
       "  </thead>\n",
       "  <tbody>\n",
       "    <tr>\n",
       "      <th>0</th>\n",
       "      <td>Carpet</td>\n",
       "      <td>7415</td>\n",
       "    </tr>\n",
       "    <tr>\n",
       "      <th>2</th>\n",
       "      <td>Grass</td>\n",
       "      <td>9134</td>\n",
       "    </tr>\n",
       "    <tr>\n",
       "      <th>1</th>\n",
       "      <td>Clay</td>\n",
       "      <td>31048</td>\n",
       "    </tr>\n",
       "    <tr>\n",
       "      <th>3</th>\n",
       "      <td>Hard</td>\n",
       "      <td>44674</td>\n",
       "    </tr>\n",
       "  </tbody>\n",
       "</table>\n",
       "</div>"
      ],
      "text/plain": [
       "  surface  Count\n",
       "0  Carpet   7415\n",
       "2   Grass   9134\n",
       "1    Clay  31048\n",
       "3    Hard  44674"
      ]
     },
     "execution_count": 46,
     "metadata": {},
     "output_type": "execute_result"
    }
   ],
   "source": [
    "count_surface"
   ]
  },
  {
   "cell_type": "code",
   "execution_count": 75,
   "metadata": {},
   "outputs": [
    {
     "data": {
      "text/plain": [
       "Text(0.5,1,'Surface')"
      ]
     },
     "execution_count": 75,
     "metadata": {},
     "output_type": "execute_result"
    },
    {
     "data": {
      "image/png": "[encoded data removed]",
      "text/plain": [
       "<Figure size 750x750 with 1 Axes>"
      ]
     },
     "metadata": {},
     "output_type": "display_data"
    }
   ],
   "source": [
    "# pie chart of surface\n",
    "count_surface = dfe[[\"tourney_id\", \"surface\"]]\n",
    "count_surface = count_surface.groupby([\"surface\"]).agg('count')\n",
    "count_surface.reset_index(inplace=True)\n",
    "count_surface.columns=[\"surface\",\"Count\"]\n",
    "count_surface.sort_values(\"Count\", inplace=True)\n",
    "\n",
    "x = np.arange(count_surface.shape[0])\n",
    "ys = [i+x+(i*x)**2 for i in range(count_surface.shape[0])]\n",
    "colors = cm.rainbow(np.linspace(0, 1, len(ys)))\n",
    "\n",
    "plt.rc('font', weight='bold')\n",
    "f, ax = plt.subplots(figsize=(5,5), dpi=150)\n",
    "labels=count_surface.surface.values\n",
    "\n",
    "sizes=count_surface.Count.values\n",
    "\n",
    "explode = [0.9 if sizes[i] < 1000 else 0.0 for i in range(len(sizes))]\n",
    "ax.pie(sizes, explode = explode, labels=labels, colors = colors,\n",
    "       autopct = lambda x:'{:1.0f}%'.format(x) if x > 1 else '',\n",
    "       shadow = False, startangle=0, textprops={'fontsize': 7})\n",
    "ax.axis('equal')\n",
    "ax.set_title('Surface', bbox={'facecolor':'blue', 'pad':3}, color = 'w', fontsize=10)"
   ]
  },
  {
   "cell_type": "code",
   "execution_count": 91,
   "metadata": {},
   "outputs": [
    {
     "data": {
      "text/html": [
       "<div>\n",
       "<style scoped>\n",
       "    .dataframe tbody tr th:only-of-type {\n",
       "        vertical-align: middle;\n",
       "    }\n",
       "\n",
       "    .dataframe tbody tr th {\n",
       "        vertical-align: top;\n",
       "    }\n",
       "\n",
       "    .dataframe thead th {\n",
       "        text-align: right;\n",
       "    }\n",
       "</style>\n",
       "<table border=\"1\" class=\"dataframe\">\n",
       "  <thead>\n",
       "    <tr style=\"text-align: right;\">\n",
       "      <th></th>\n",
       "      <th></th>\n",
       "      <th>j0_rank_points</th>\n",
       "      <th>j1_rank_points</th>\n",
       "    </tr>\n",
       "    <tr>\n",
       "      <th>surface</th>\n",
       "      <th>target</th>\n",
       "      <th></th>\n",
       "      <th></th>\n",
       "    </tr>\n",
       "  </thead>\n",
       "  <tbody>\n",
       "    <tr>\n",
       "      <th rowspan=\"2\" valign=\"top\">Carpet</th>\n",
       "      <th>0</th>\n",
       "      <td>1158.680702</td>\n",
       "      <td>830.936842</td>\n",
       "    </tr>\n",
       "    <tr>\n",
       "      <th>1</th>\n",
       "      <td>819.912399</td>\n",
       "      <td>1163.710512</td>\n",
       "    </tr>\n",
       "    <tr>\n",
       "      <th rowspan=\"2\" valign=\"top\">Clay</th>\n",
       "      <th>0</th>\n",
       "      <td>1214.897490</td>\n",
       "      <td>780.399807</td>\n",
       "    </tr>\n",
       "    <tr>\n",
       "      <th>1</th>\n",
       "      <td>779.875806</td>\n",
       "      <td>1198.669267</td>\n",
       "    </tr>\n",
       "    <tr>\n",
       "      <th rowspan=\"2\" valign=\"top\">Grass</th>\n",
       "      <th>0</th>\n",
       "      <td>1345.366784</td>\n",
       "      <td>794.533304</td>\n",
       "    </tr>\n",
       "    <tr>\n",
       "      <th>1</th>\n",
       "      <td>796.660394</td>\n",
       "      <td>1368.966958</td>\n",
       "    </tr>\n",
       "    <tr>\n",
       "      <th rowspan=\"2\" valign=\"top\">Hard</th>\n",
       "      <th>0</th>\n",
       "      <td>1497.929218</td>\n",
       "      <td>904.962883</td>\n",
       "    </tr>\n",
       "    <tr>\n",
       "      <th>1</th>\n",
       "      <td>905.214567</td>\n",
       "      <td>1522.124341</td>\n",
       "    </tr>\n",
       "  </tbody>\n",
       "</table>\n",
       "</div>"
      ],
      "text/plain": [
       "                j0_rank_points  j1_rank_points\n",
       "surface target                                \n",
       "Carpet  0          1158.680702      830.936842\n",
       "        1           819.912399     1163.710512\n",
       "Clay    0          1214.897490      780.399807\n",
       "        1           779.875806     1198.669267\n",
       "Grass   0          1345.366784      794.533304\n",
       "        1           796.660394     1368.966958\n",
       "Hard    0          1497.929218      904.962883\n",
       "        1           905.214567     1522.124341"
      ]
     },
     "execution_count": 91,
     "metadata": {},
     "output_type": "execute_result"
    }
   ],
   "source": [
    "dfe.groupby([\"surface\",\"target\"])[\"j0_rank_points\",\"j1_rank_points\"].agg('mean')"
   ]
  },
  {
   "cell_type": "code",
   "execution_count": 86,
   "metadata": {},
   "outputs": [
    {
     "data": {
      "image/png": "[encoded data removed]",
      "text/plain": [
       "<Figure size 432x288 with 1 Axes>"
      ]
     },
     "metadata": {},
     "output_type": "display_data"
    }
   ],
   "source": [
    "city=['Delhi','Beijing','Washington','Tokyo','Moscow']\n",
    "Gender=['loser','winner']\n",
    "pos = np.arange(len(city))\n",
    "bar_width = 0.35\n",
    "Happiness_Index_Male=[60,40,70,65,85]\n",
    "Happiness_Index_Female=[30,60,70,55,75]\n",
    " \n",
    "plt.bar(pos,Happiness_Index_Male,bar_width,color='blue',edgecolor='black')\n",
    "plt.bar(pos+bar_width,Happiness_Index_Female,bar_width,color='pink',edgecolor='black')\n",
    "plt.xticks(pos, city)\n",
    "plt.xlabel('City', fontsize=16)\n",
    "plt.ylabel('Happiness_Index', fontsize=16)\n",
    "plt.title('Group Barchart - Happiness index across cities By Gender',fontsize=18)\n",
    "plt.legend(Gender,loc=2)\n",
    "plt.show()"
   ]
  },
  {
   "cell_type": "code",
   "execution_count": null,
   "metadata": {},
   "outputs": [],
   "source": []
  },
  {
   "cell_type": "code",
   "execution_count": null,
   "metadata": {},
   "outputs": [],
   "source": []
  },
  {
   "cell_type": "code",
   "execution_count": 92,
   "metadata": {},
   "outputs": [
    {
     "name": "stdout",
     "output_type": "stream",
     "text": [
      "[3 3 3 ... 1 1 1]\n"
     ]
    },
    {
     "ename": "NameError",
     "evalue": "name 'OneHotEncoder' is not defined",
     "output_type": "error",
     "traceback": [
      "\u001b[1;31m---------------------------------------------------------------------------\u001b[0m",
      "\u001b[1;31mNameError\u001b[0m                                 Traceback (most recent call last)",
      "\u001b[1;32m<ipython-input-92-e5b8b35afd44>\u001b[0m in \u001b[0;36m<module>\u001b[1;34m()\u001b[0m\n\u001b[0;32m      4\u001b[0m \u001b[0mprint\u001b[0m\u001b[1;33m(\u001b[0m\u001b[0minteger_encoded\u001b[0m\u001b[1;33m)\u001b[0m\u001b[1;33m\u001b[0m\u001b[0m\n\u001b[0;32m      5\u001b[0m \u001b[1;33m\u001b[0m\u001b[0m\n\u001b[1;32m----> 6\u001b[1;33m \u001b[0monehot_encoder\u001b[0m \u001b[1;33m=\u001b[0m \u001b[0mOneHotEncoder\u001b[0m\u001b[1;33m(\u001b[0m\u001b[0msparse\u001b[0m\u001b[1;33m=\u001b[0m\u001b[1;32mFalse\u001b[0m\u001b[1;33m)\u001b[0m\u001b[1;33m\u001b[0m\u001b[0m\n\u001b[0m\u001b[0;32m      7\u001b[0m \u001b[0minteger_encoded\u001b[0m \u001b[1;33m=\u001b[0m \u001b[0minteger_encoded\u001b[0m\u001b[1;33m.\u001b[0m\u001b[0mreshape\u001b[0m\u001b[1;33m(\u001b[0m\u001b[0mlen\u001b[0m\u001b[1;33m(\u001b[0m\u001b[0minteger_encoded\u001b[0m\u001b[1;33m)\u001b[0m\u001b[1;33m,\u001b[0m \u001b[1;36m1\u001b[0m\u001b[1;33m)\u001b[0m\u001b[1;33m\u001b[0m\u001b[0m\n\u001b[0;32m      8\u001b[0m \u001b[0monehot_encoded\u001b[0m \u001b[1;33m=\u001b[0m \u001b[0monehot_encoder\u001b[0m\u001b[1;33m.\u001b[0m\u001b[0mfit_transform\u001b[0m\u001b[1;33m(\u001b[0m\u001b[0minteger_encoded\u001b[0m\u001b[1;33m)\u001b[0m\u001b[1;33m\u001b[0m\u001b[0m\n",
      "\u001b[1;31mNameError\u001b[0m: name 'OneHotEncoder' is not defined"
     ]
    }
   ],
   "source": [
    "from sklearn.preprocessing import LabelEncoder\n",
    "label_encoder = LabelEncoder()\n",
    "integer_encoded = label_encoder.fit_transform(dfe.surface)\n",
    "print(integer_encoded)\n",
    "\n",
    "onehot_encoder = OneHotEncoder(sparse=False)\n",
    "integer_encoded = integer_encoded.reshape(len(integer_encoded), 1)\n",
    "onehot_encoded = onehot_encoder.fit_transform(integer_encoded)\n",
    "print(onehot_encoded)\n",
    "\n",
    "onehot_encoder.feature_indices_"
   ]
  },
  {
   "cell_type": "code",
   "execution_count": 93,
   "metadata": {},
   "outputs": [
    {
     "data": {
      "text/html": [
       "<div>\n",
       "<style scoped>\n",
       "    .dataframe tbody tr th:only-of-type {\n",
       "        vertical-align: middle;\n",
       "    }\n",
       "\n",
       "    .dataframe tbody tr th {\n",
       "        vertical-align: top;\n",
       "    }\n",
       "\n",
       "    .dataframe thead th {\n",
       "        text-align: right;\n",
       "    }\n",
       "</style>\n",
       "<table border=\"1\" class=\"dataframe\">\n",
       "  <thead>\n",
       "    <tr style=\"text-align: right;\">\n",
       "      <th></th>\n",
       "      <th>Carpet</th>\n",
       "      <th>Clay</th>\n",
       "      <th>Grass</th>\n",
       "      <th>Hard</th>\n",
       "    </tr>\n",
       "  </thead>\n",
       "  <tbody>\n",
       "    <tr>\n",
       "      <th>73120</th>\n",
       "      <td>0</td>\n",
       "      <td>0</td>\n",
       "      <td>0</td>\n",
       "      <td>1</td>\n",
       "    </tr>\n",
       "    <tr>\n",
       "      <th>73121</th>\n",
       "      <td>0</td>\n",
       "      <td>0</td>\n",
       "      <td>0</td>\n",
       "      <td>1</td>\n",
       "    </tr>\n",
       "    <tr>\n",
       "      <th>73122</th>\n",
       "      <td>0</td>\n",
       "      <td>0</td>\n",
       "      <td>0</td>\n",
       "      <td>1</td>\n",
       "    </tr>\n",
       "    <tr>\n",
       "      <th>73123</th>\n",
       "      <td>0</td>\n",
       "      <td>0</td>\n",
       "      <td>0</td>\n",
       "      <td>1</td>\n",
       "    </tr>\n",
       "    <tr>\n",
       "      <th>73124</th>\n",
       "      <td>0</td>\n",
       "      <td>0</td>\n",
       "      <td>0</td>\n",
       "      <td>1</td>\n",
       "    </tr>\n",
       "  </tbody>\n",
       "</table>\n",
       "</div>"
      ],
      "text/plain": [
       "       Carpet  Clay  Grass  Hard\n",
       "73120       0     0      0     1\n",
       "73121       0     0      0     1\n",
       "73122       0     0      0     1\n",
       "73123       0     0      0     1\n",
       "73124       0     0      0     1"
      ]
     },
     "execution_count": 93,
     "metadata": {},
     "output_type": "execute_result"
    }
   ],
   "source": [
    "# Binarize surface\n",
    "df_surface = dfe.surface.str.get_dummies()\n",
    "df_surface.head()"
   ]
  },
  {
   "cell_type": "code",
   "execution_count": 94,
   "metadata": {},
   "outputs": [
    {
     "data": {
      "image/png": "[encoded data removed]",
      "text/plain": [
       "<Figure size 432x288 with 1 Axes>"
      ]
     },
     "metadata": {},
     "output_type": "display_data"
    }
   ],
   "source": [
    "sum(dfe.j0_ace.isna())\n",
    "_ = plt.scatter(dfe.j0_ht, dfe.j0_ace, c='blue')"
   ]
  },
  {
   "cell_type": "code",
   "execution_count": null,
   "metadata": {},
   "outputs": [],
   "source": []
  },
  {
   "cell_type": "markdown",
   "metadata": {},
   "source": [
    "# Model"
   ]
  },
  {
   "cell_type": "code",
   "execution_count": 95,
   "metadata": {},
   "outputs": [],
   "source": [
    "class Model:\n",
    "    def __init__(self,data,seed,random_sample):\n",
    "        self.random_sample = random_sample\n",
    "        self.seed = seed\n",
    "        \n",
    "        self.data = data.sample(frac=self.random_sample, replace=False, random_state=self.seed)\n",
    "        \n",
    "        self.lr=None\n",
    "        self.pred_train=None\n",
    "        self.pred_test=None\n",
    "    def split(self, test_size):\n",
    "        self.test_size = test_size\n",
    "        train_X, test_X, train_y, test_y = train_test_split(self.data,self.data['target'], test_size = test_size, random_state=self.seed)\n",
    "        self.train_X = train_X.drop(columns=['target'])\n",
    "        self.test_X = test_X.drop(columns=['target'])\n",
    "        self.train_y = train_y\n",
    "        self.test_y = test_y\n",
    "    def model_LR(self,n_jobs,cv,regul):\n",
    "        self.regul = regul\n",
    "        if regul=='none':\n",
    "            n_iters = np.array([50, 200])\n",
    "            model = linear_model.SGDClassifier(loss='log', random_state=0, penalty=self.regul)\n",
    "            grid = GridSearchCV(estimator=model, param_grid=dict(n_iter=n_iters), scoring='roc_auc', n_jobs=n_jobs, cv=cv, verbose=1)\n",
    "            grid.fit(self.train_X,self.train_y)\n",
    "            self.grid = grid\n",
    "        elif regul=='elasticnet':\n",
    "            n_iters = np.array([50, 200])\n",
    "            alphas = np.logspace(-5, 1, 5)\n",
    "            l1_ratios = np.array([0, 0.15, 0.3, 0.4, 0.5, 0.6, 0.85, 1])\n",
    "            model = linear_model.SGDClassifier(loss='log', random_state=0, penalty=self.regul,n_iter=100,max_iter=100)\n",
    "            grid = GridSearchCV(estimator=model, param_grid=dict(alpha=alphas,l1_ratio=l1_ratios), scoring='roc_auc', n_jobs=n_jobs, cv=cv, verbose=1)\n",
    "            grid.fit(self.train_X,self.train_y)\n",
    "            self.grid = grid\n",
    "        return self.lr\n",
    "    def model_GB(self,n_jobs,cv):\n",
    "        param_grid = {'n_estimators' : [10, 20, 30, 40, 50, 60, 70, 80, 90, 100,150,200],\n",
    "                      'learning_rate':[0.1,0.2,0.5,0.7,0.9,1]}\n",
    "        model = ensemble.GradientBoostingClassifier()\n",
    "        grid = GridSearchCV(estimator=model, param_grid=param_grid, scoring='roc_auc', n_jobs=n_jobs, cv=cv, verbose=1)\n",
    "        grid.fit(self.train_X,self.train_y)\n",
    "        self.grid = grid\n",
    "    def model_KNN(self,n_jobs,cv):\n",
    "        param_grid = {'n_neighbors': np.arange(1,310,10)}\n",
    "        model = neighbors.KNeighborsClassifier()\n",
    "        grid = GridSearchCV(estimator=model, param_grid=param_grid, scoring='roc_auc', n_jobs=n_jobs, cv=cv, verbose=1)\n",
    "        grid.fit(self.train_X,self.train_y)\n",
    "        self.grid = grid\n",
    "    def predict(self):\n",
    "        self.pred_train = self.grid.best_estimator_.predict_proba(X=self.train_X)\n",
    "        self.pred_test = self.grid.best_estimator_.predict_proba(X=self.test_X)\n",
    "    def get_AUC(self):\n",
    "        self.train_auc=metrics.roc_auc_score(y_score=self.grid.best_estimator_.predict_proba(X=self.train_X)[:,1], y_true=self.train_y)\n",
    "        self.test_auc=metrics.roc_auc_score(y_score=self.grid.best_estimator_.predict_proba(X=self.test_X)[:,1], y_true=self.test_y)\n",
    "        return (self.train_auc,self.test_auc)\n",
    "    ### get contingency table + recall precision + roc curve !!!\n",
    "    def boxplot(self):\n",
    "        plt.figure()\n",
    "        plt.subplot(1,2,1)\n",
    "        sns.boxplot(x=self.train_y.values, y=self.grid.best_estimator_.predict_proba(X=self.train_X.values)[:,1])\n",
    "        plt.title('Train')\n",
    "        plt.subplot(1,2,2)\n",
    "        sns.boxplot(x=self.test_y.values, y=self.grid.best_estimator_.predict_proba(X=self.test_X.values)[:,1])\n",
    "        plt.title('Test')\n",
    "        return plt\n",
    "    def rocCurve(self):\n",
    "        plt.figure()\n",
    "        plt.subplot(1,2,1)\n",
    "        fpr, tpr, thresholds = metrics.roc_curve(y_score=self.grid.best_estimator_.predict_proba(X=self.train_X)[:,1], y_true=self.train_y)\n",
    "        plt.plot(fpr, tpr,'r')\n",
    "        plt.plot([0,1],[0,1],'b')\n",
    "        plt.title('Train, AUC: {}'.format(round(metrics.auc(fpr,tpr),3)))\n",
    "        \n",
    "        plt.subplot(1,2,2)\n",
    "        fpr, tpr, thresholds = metrics.roc_curve(y_score=self.grid.best_estimator_.predict_proba(X=self.test_X)[:,1], y_true=self.test_y)\n",
    "        plt.plot(fpr, tpr,'r')\n",
    "        plt.plot([0,1],[0,1],'b')\n",
    "        plt.title('Test, AUC: {}'.format(round(metrics.auc(fpr,tpr),3)))\n",
    "        return plt\n",
    "    def confusion(self,set_):\n",
    "        if set_ == \"train\":\n",
    "            res = metrics.confusion_matrix(y_true=self.train_y,y_pred=self.pred_train)\n",
    "        elif set_ == \"test\":\n",
    "            res = metrics.confusion_matrix(y_true=self.test_y,y_pred=self.pred_test)\n",
    "        return res\n",
    "    def getAccuracy(self):\n",
    "        res=(metrics.accuracy_score(y_true=self.train_y,y_pred=self.pred_train),\n",
    "            metrics.accuracy_score(y_true=self.test_y,y_pred=self.pred_test))\n",
    "        return res\n",
    "    def getClassificationReport(self,set_):\n",
    "        if set_ == \"train\":\n",
    "            res = metrics.classification_report(self.train_y, self.pred_train)\n",
    "        elif set_ == \"test\":\n",
    "            res = metrics.classification_report(self.test_y, self.pred_test)\n",
    "        return res"
   ]
  },
  {
   "cell_type": "code",
   "execution_count": 110,
   "metadata": {},
   "outputs": [
    {
     "name": "stderr",
     "output_type": "stream",
     "text": [
      "C:\\ProgramData\\Anaconda3\\lib\\site-packages\\pandas\\core\\frame.py:3137: SettingWithCopyWarning: \n",
      "A value is trying to be set on a copy of a slice from a DataFrame.\n",
      "Try using .loc[row_indexer,col_indexer] = value instead\n",
      "\n",
      "See the caveats in the documentation: http://pandas.pydata.org/pandas-docs/stable/indexing.html#indexing-view-versus-copy\n",
      "  self[k1] = value[k2]\n",
      "C:\\ProgramData\\Anaconda3\\lib\\site-packages\\ipykernel_launcher.py:3: SettingWithCopyWarning: \n",
      "A value is trying to be set on a copy of a slice from a DataFrame\n",
      "\n",
      "See the caveats in the documentation: http://pandas.pydata.org/pandas-docs/stable/indexing.html#indexing-view-versus-copy\n",
      "  This is separate from the ipykernel package so we can avoid doing imports until\n",
      "C:\\ProgramData\\Anaconda3\\lib\\site-packages\\pandas\\core\\generic.py:4401: SettingWithCopyWarning: \n",
      "A value is trying to be set on a copy of a slice from a DataFrame.\n",
      "Try using .loc[row_indexer,col_indexer] = value instead\n",
      "\n",
      "See the caveats in the documentation: http://pandas.pydata.org/pandas-docs/stable/indexing.html#indexing-view-versus-copy\n",
      "  self[name] = value\n"
     ]
    },
    {
     "data": {
      "text/html": [
       "<div>\n",
       "<style scoped>\n",
       "    .dataframe tbody tr th:only-of-type {\n",
       "        vertical-align: middle;\n",
       "    }\n",
       "\n",
       "    .dataframe tbody tr th {\n",
       "        vertical-align: top;\n",
       "    }\n",
       "\n",
       "    .dataframe thead th {\n",
       "        text-align: right;\n",
       "    }\n",
       "</style>\n",
       "<table border=\"1\" class=\"dataframe\">\n",
       "  <thead>\n",
       "    <tr style=\"text-align: right;\">\n",
       "      <th></th>\n",
       "      <th>target</th>\n",
       "      <th>j0_rank_points</th>\n",
       "      <th>j1_rank_points</th>\n",
       "      <th>j0_age</th>\n",
       "      <th>j1_age</th>\n",
       "      <th>j0_bpSaved</th>\n",
       "      <th>j1_bpSaved</th>\n",
       "      <th>Carpet</th>\n",
       "      <th>Clay</th>\n",
       "      <th>Grass</th>\n",
       "      <th>Hard</th>\n",
       "    </tr>\n",
       "  </thead>\n",
       "  <tbody>\n",
       "    <tr>\n",
       "      <th>76863</th>\n",
       "      <td>0</td>\n",
       "      <td>7.304516</td>\n",
       "      <td>6.129050</td>\n",
       "      <td>3.242983</td>\n",
       "      <td>3.027231</td>\n",
       "      <td>5.0</td>\n",
       "      <td>2.0</td>\n",
       "      <td>0</td>\n",
       "      <td>0</td>\n",
       "      <td>0</td>\n",
       "      <td>1</td>\n",
       "    </tr>\n",
       "    <tr>\n",
       "      <th>76864</th>\n",
       "      <td>1</td>\n",
       "      <td>4.736198</td>\n",
       "      <td>5.916202</td>\n",
       "      <td>3.460095</td>\n",
       "      <td>3.070376</td>\n",
       "      <td>7.0</td>\n",
       "      <td>1.0</td>\n",
       "      <td>0</td>\n",
       "      <td>0</td>\n",
       "      <td>0</td>\n",
       "      <td>1</td>\n",
       "    </tr>\n",
       "    <tr>\n",
       "      <th>76865</th>\n",
       "      <td>0</td>\n",
       "      <td>6.148468</td>\n",
       "      <td>4.753590</td>\n",
       "      <td>3.231595</td>\n",
       "      <td>3.077312</td>\n",
       "      <td>2.0</td>\n",
       "      <td>4.0</td>\n",
       "      <td>0</td>\n",
       "      <td>0</td>\n",
       "      <td>0</td>\n",
       "      <td>1</td>\n",
       "    </tr>\n",
       "    <tr>\n",
       "      <th>76866</th>\n",
       "      <td>1</td>\n",
       "      <td>6.180017</td>\n",
       "      <td>6.218600</td>\n",
       "      <td>3.171784</td>\n",
       "      <td>3.251537</td>\n",
       "      <td>8.0</td>\n",
       "      <td>6.0</td>\n",
       "      <td>0</td>\n",
       "      <td>0</td>\n",
       "      <td>0</td>\n",
       "      <td>1</td>\n",
       "    </tr>\n",
       "    <tr>\n",
       "      <th>76867</th>\n",
       "      <td>0</td>\n",
       "      <td>4.955827</td>\n",
       "      <td>6.775366</td>\n",
       "      <td>2.981126</td>\n",
       "      <td>3.030134</td>\n",
       "      <td>2.0</td>\n",
       "      <td>4.0</td>\n",
       "      <td>0</td>\n",
       "      <td>0</td>\n",
       "      <td>0</td>\n",
       "      <td>1</td>\n",
       "    </tr>\n",
       "  </tbody>\n",
       "</table>\n",
       "</div>"
      ],
      "text/plain": [
       "       target  j0_rank_points  j1_rank_points    j0_age    j1_age  j0_bpSaved  \\\n",
       "76863       0        7.304516        6.129050  3.242983  3.027231         5.0   \n",
       "76864       1        4.736198        5.916202  3.460095  3.070376         7.0   \n",
       "76865       0        6.148468        4.753590  3.231595  3.077312         2.0   \n",
       "76866       1        6.180017        6.218600  3.171784  3.251537         8.0   \n",
       "76867       0        4.955827        6.775366  2.981126  3.030134         2.0   \n",
       "\n",
       "       j1_bpSaved  Carpet  Clay  Grass  Hard  \n",
       "76863         2.0       0     0      0     1  \n",
       "76864         1.0       0     0      0     1  \n",
       "76865         4.0       0     0      0     1  \n",
       "76866         6.0       0     0      0     1  \n",
       "76867         4.0       0     0      0     1  "
      ]
     },
     "execution_count": 110,
     "metadata": {},
     "output_type": "execute_result"
    }
   ],
   "source": [
    "dfm = dfe[[\"target\",\"j0_rank_points\",\"j1_rank_points\",\"j0_age\",\"j1_age\",\"j0_bpSaved\",\"j1_bpSaved\"]]\n",
    "dfm[df_surface.columns] = df_surface\n",
    "dfm.dropna(inplace=True)\n",
    "\n",
    "dfm.j0_rank_points = dfm.j0_rank_points.apply(lambda x: math.log(x))\n",
    "dfm.j1_rank_points = dfm.j1_rank_points.apply(lambda x: math.log(x))\n",
    "dfm.j0_age = dfm.j0_age.apply(lambda x: math.log(x))\n",
    "dfm.j1_age = dfm.j1_age.apply(lambda x: math.log(x))\n",
    "\n",
    "dfm.head()"
   ]
  },
  {
   "cell_type": "code",
   "execution_count": null,
   "metadata": {},
   "outputs": [],
   "source": []
  },
  {
   "cell_type": "code",
   "execution_count": null,
   "metadata": {},
   "outputs": [],
   "source": []
  },
  {
   "cell_type": "code",
   "execution_count": null,
   "metadata": {},
   "outputs": [],
   "source": []
  },
  {
   "cell_type": "code",
   "execution_count": null,
   "metadata": {},
   "outputs": [],
   "source": []
  },
  {
   "cell_type": "code",
   "execution_count": 111,
   "metadata": {},
   "outputs": [
    {
     "name": "stdout",
     "output_type": "stream",
     "text": [
      "Fitting 4 folds for each of 40 candidates, totalling 160 fits\n"
     ]
    },
    {
     "name": "stderr",
     "output_type": "stream",
     "text": [
      "[Parallel(n_jobs=8)]: Using backend LokyBackend with 8 concurrent workers.\n",
      "[Parallel(n_jobs=8)]: Done  34 tasks      | elapsed:    5.9s\n",
      "[Parallel(n_jobs=8)]: Done 160 out of 160 | elapsed:   24.4s finished\n",
      "C:\\Users\\FEH-AZRAK\\AppData\\Roaming\\Python\\Python36\\site-packages\\sklearn\\linear_model\\stochastic_gradient.py:130: DeprecationWarning: n_iter parameter is deprecated in 0.19 and will be removed in 0.21. Use max_iter and tol instead.\n",
      "  DeprecationWarning)\n"
     ]
    }
   ],
   "source": [
    "lr = Model(data=dfm,seed=123,random_sample=0.5)\n",
    "lr.split(0.35)\n",
    "lr.model_LR(cv=4,n_jobs=8,regul=\"elasticnet\")\n",
    "lr.predict()"
   ]
  },
  {
   "cell_type": "code",
   "execution_count": 112,
   "metadata": {},
   "outputs": [
    {
     "data": {
      "image/png": "[encoded data removed]",
      "text/plain": [
       "<Figure size 432x288 with 2 Axes>"
      ]
     },
     "metadata": {},
     "output_type": "display_data"
    }
   ],
   "source": [
    "_ = lr.rocCurve()"
   ]
  },
  {
   "cell_type": "code",
   "execution_count": 113,
   "metadata": {},
   "outputs": [
    {
     "data": {
      "image/png": "[encoded data removed]",
      "text/plain": [
       "<Figure size 432x288 with 2 Axes>"
      ]
     },
     "metadata": {},
     "output_type": "display_data"
    }
   ],
   "source": [
    "_ = lr.boxplot()"
   ]
  },
  {
   "cell_type": "code",
   "execution_count": null,
   "metadata": {},
   "outputs": [],
   "source": []
  },
  {
   "cell_type": "code",
   "execution_count": 114,
   "metadata": {},
   "outputs": [
    {
     "name": "stdout",
     "output_type": "stream",
     "text": [
      "Fitting 4 folds for each of 72 candidates, totalling 288 fits\n"
     ]
    },
    {
     "name": "stderr",
     "output_type": "stream",
     "text": [
      "[Parallel(n_jobs=8)]: Using backend LokyBackend with 8 concurrent workers.\n",
      "[Parallel(n_jobs=8)]: Done  34 tasks      | elapsed:   10.3s\n",
      "[Parallel(n_jobs=8)]: Done 184 tasks      | elapsed:  1.1min\n",
      "[Parallel(n_jobs=8)]: Done 288 out of 288 | elapsed:  1.7min finished\n"
     ]
    }
   ],
   "source": [
    "gb = Model(data=dfm,seed=123,random_sample=0.5)\n",
    "gb.split(0.35)\n",
    "gb.model_GB(cv=4,n_jobs=8)\n",
    "gb.predict()"
   ]
  },
  {
   "cell_type": "code",
   "execution_count": 115,
   "metadata": {},
   "outputs": [
    {
     "data": {
      "image/png": "[encoded data removed]",
      "text/plain": [
       "<Figure size 432x288 with 2 Axes>"
      ]
     },
     "metadata": {},
     "output_type": "display_data"
    }
   ],
   "source": [
    "_ = gb.rocCurve()"
   ]
  },
  {
   "cell_type": "code",
   "execution_count": 116,
   "metadata": {},
   "outputs": [
    {
     "data": {
      "image/png": "[encoded data removed]",
      "text/plain": [
       "<Figure size 432x288 with 2 Axes>"
      ]
     },
     "metadata": {},
     "output_type": "display_data"
    }
   ],
   "source": [
    "_ = gb.boxplot()"
   ]
  },
  {
   "cell_type": "code",
   "execution_count": null,
   "metadata": {},
   "outputs": [],
   "source": []
  },
  {
   "cell_type": "code",
   "execution_count": 117,
   "metadata": {},
   "outputs": [
    {
     "name": "stdout",
     "output_type": "stream",
     "text": [
      "Fitting 4 folds for each of 31 candidates, totalling 124 fits\n"
     ]
    },
    {
     "name": "stderr",
     "output_type": "stream",
     "text": [
      "[Parallel(n_jobs=8)]: Using backend LokyBackend with 8 concurrent workers.\n",
      "[Parallel(n_jobs=8)]: Done  34 tasks      | elapsed:   42.2s\n",
      "[Parallel(n_jobs=8)]: Done 124 out of 124 | elapsed:  4.3min finished\n"
     ]
    }
   ],
   "source": [
    "knn = Model(data=dfm,seed=123,random_sample=0.5)\n",
    "knn.split(0.35)\n",
    "knn.model_KNN(cv=4,n_jobs=8)\n",
    "knn.predict()"
   ]
  },
  {
   "cell_type": "code",
   "execution_count": 118,
   "metadata": {},
   "outputs": [
    {
     "data": {
      "image/png": "[encoded data removed]",
      "text/plain": [
       "<Figure size 432x288 with 2 Axes>"
      ]
     },
     "metadata": {},
     "output_type": "display_data"
    }
   ],
   "source": [
    "_ = knn.rocCurve()"
   ]
  },
  {
   "cell_type": "code",
   "execution_count": 119,
   "metadata": {},
   "outputs": [
    {
     "data": {
      "image/png": "[encoded data removed]",
      "text/plain": [
       "<Figure size 432x288 with 2 Axes>"
      ]
     },
     "metadata": {},
     "output_type": "display_data"
    }
   ],
   "source": [
    "_ = knn.boxplot()"
   ]
  },
  {
   "cell_type": "code",
   "execution_count": 120,
   "metadata": {},
   "outputs": [
    {
     "data": {
      "text/plain": [
       "{'n_neighbors': 171}"
      ]
     },
     "execution_count": 120,
     "metadata": {},
     "output_type": "execute_result"
    }
   ],
   "source": [
    "knn.grid.best_params_"
   ]
  },
  {
   "cell_type": "code",
   "execution_count": null,
   "metadata": {},
   "outputs": [],
   "source": []
  },
  {
   "cell_type": "code",
   "execution_count": null,
   "metadata": {},
   "outputs": [],
   "source": []
  },
  {
   "cell_type": "code",
   "execution_count": null,
   "metadata": {},
   "outputs": [],
   "source": []
  }
 ],
 "metadata": {
  "kernelspec": {
   "display_name": "Python 3",
   "language": "python",
   "name": "python3"
  },
  "language_info": {
   "codemirror_mode": {
    "name": "ipython",
    "version": 3
   },
   "file_extension": ".py",
   "mimetype": "text/x-python",
   "name": "python",
   "nbconvert_exporter": "python",
   "pygments_lexer": "ipython3",
   "version": "3.6.5"
  }
 },
 "nbformat": 4,
 "nbformat_minor": 2
}
