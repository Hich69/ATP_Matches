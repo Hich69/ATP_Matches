{
 "cells": [
  {
   "cell_type": "code",
   "execution_count": 1,
   "metadata": {},
   "outputs": [],
   "source": [
    "import pandas as pd\n",
    "import numpy as np\n",
    "import matplotlib.pyplot as plt\n",
    "import os\n",
    "from datetime import datetime"
   ]
  },
  {
   "cell_type": "markdown",
   "metadata": {},
   "source": [
    "# Import data"
   ]
  },
  {
   "cell_type": "code",
   "execution_count": 2,
   "metadata": {},
   "outputs": [],
   "source": [
    "dat = pd.read_csv(\"../data/ATP.csv\")"
   ]
  },
  {
   "cell_type": "markdown",
   "metadata": {},
   "source": [
    "# convert date as datatime"
   ]
  },
  {
   "cell_type": "code",
   "execution_count": 3,
   "metadata": {},
   "outputs": [],
   "source": [
    "dat['date'] = dat.tourney_date.apply(lambda t: datetime.strptime(str(t), '%Y%m%d'))"
   ]
  },
  {
   "cell_type": "markdown",
   "metadata": {
    "scrolled": true
   },
   "source": [
    "# change format of initial dataframe"
   ]
  },
  {
   "cell_type": "code",
   "execution_count": 4,
   "metadata": {},
   "outputs": [],
   "source": [
    "colnames = dict()\n",
    "colnames['type1'] = ['1stIn', '1stWon', '2ndWon', 'SvGms', 'ace', 'bpFaced', 'bpSaved', 'df', 'svpt']\n",
    "colnames['type2'] = ['age', 'entry', 'hand', 'ht', 'id', 'ioc', 'name', 'rank', 'rank_points', 'seed']\n",
    "colnames['type3'] = ['best_of', 'draw_size', 'match_num', 'minutes', 'round', 'score', 'surface', 'tourney_date',\n",
    "                     'tourney_id', 'tourney_level', 'tourney_name', 'date']"
   ]
  },
  {
   "cell_type": "code",
   "execution_count": 5,
   "metadata": {},
   "outputs": [],
   "source": [
    "df = pd.DataFrame()\n",
    "mat = []\n",
    "for i in dat.index:\n",
    "    row = []\n",
    "    for col in colnames['type3']:\n",
    "        row.append(dat[col][i])\n",
    "    if i % 2 == 0: #j0\n",
    "        # j0=loser, j1=winner\n",
    "        for col in colnames['type1']:\n",
    "            row.append(dat['l_'+col][i])\n",
    "        for col in colnames['type2']:\n",
    "            row.append(dat['loser_'+col][i])\n",
    "        for col in colnames['type1']:\n",
    "            row.append(dat['w_'+col][i])\n",
    "        for col in colnames['type2']:\n",
    "            row.append(dat['winner_'+col][i])\n",
    "        row.append(1) #target winner --> j1\n",
    "    else: #j1\n",
    "        # j0=winner, j1=loser\n",
    "        for col in colnames['type1']:\n",
    "            row.append(dat['w_'+col][i])\n",
    "        for col in colnames['type2']:\n",
    "            row.append(dat['winner_'+col][i])\n",
    "        for col in colnames['type1']:\n",
    "            row.append(dat['l_'+col][i])\n",
    "        for col in colnames['type2']:\n",
    "            row.append(dat['loser_'+col][i])\n",
    "        row.append(0) #target winner --> j0\n",
    "    mat.append(row)"
   ]
  },
  {
   "cell_type": "code",
   "execution_count": 6,
   "metadata": {},
   "outputs": [],
   "source": [
    "colDataFrame = colnames['type3']\n",
    "for col in colnames['type1']:\n",
    "    colDataFrame.append('j0_'+col)\n",
    "for col in colnames['type2']:\n",
    "    colDataFrame.append('j0_'+col)\n",
    "for col in colnames['type1']:\n",
    "    colDataFrame.append('j1_'+col)\n",
    "for col in colnames['type2']:\n",
    "    colDataFrame.append('j1_'+col)\n",
    "colDataFrame.append(\"target\")"
   ]
  },
  {
   "cell_type": "code",
   "execution_count": 7,
   "metadata": {},
   "outputs": [],
   "source": [
    "df = pd.DataFrame(columns=colDataFrame, data=mat)"
   ]
  },
  {
   "cell_type": "code",
   "execution_count": 8,
   "metadata": {},
   "outputs": [],
   "source": [
    "df.to_csv(\"../data/ATP_.csv\", sep=\";\", index=False)"
   ]
  },
  {
   "cell_type": "code",
   "execution_count": null,
   "metadata": {
    "scrolled": true
   },
   "outputs": [],
   "source": []
  },
  {
   "cell_type": "markdown",
   "metadata": {},
   "source": [
    "# Exploration of data"
   ]
  },
  {
   "cell_type": "code",
   "execution_count": 82,
   "metadata": {},
   "outputs": [],
   "source": [
    "dateparse = lambda x:datetime.strptime(x,'%Y-%m-%d').date()"
   ]
  },
  {
   "cell_type": "code",
   "execution_count": 83,
   "metadata": {},
   "outputs": [
    {
     "name": "stdout",
     "output_type": "stream",
     "text": [
      "nRows : 169690, nCols : 51\n"
     ]
    }
   ],
   "source": [
    "df = pd.read_csv(\"../data/ATP_.csv\", sep=\";\")\n",
    "print(\"nRows : {}, nCols : {}\".format(df.shape[0], df.shape[1]))"
   ]
  },
  {
   "cell_type": "code",
   "execution_count": 85,
   "metadata": {},
   "outputs": [],
   "source": [
    "df['date'] = df['date'].apply(dateparse)"
   ]
  },
  {
   "cell_type": "code",
   "execution_count": 367,
   "metadata": {},
   "outputs": [],
   "source": [
    "dfe = df.copy()"
   ]
  },
  {
   "cell_type": "markdown",
   "metadata": {},
   "source": [
    "The first rankings were published in August, 23rd 1973, so we can delete all row without rank as this value seems to be important for the bookmakers !"
   ]
  },
  {
   "cell_type": "code",
   "execution_count": 368,
   "metadata": {},
   "outputs": [],
   "source": [
    "dfe = dfe.loc[np.invert(dfe.j0_rank.isna()) & np.invert(dfe.j1_rank.isna())]\n",
    "dfe = dfe.loc[np.invert(dfe.j0_rank_points.isna()) & np.invert(dfe.j1_rank_points.isna())]\n",
    "dfe = dfe.loc[np.invert(dfe.surface.isna())]\n",
    "dfe = dfe.loc[np.invert(dfe.j0_age.isna()) & np.invert(dfe.j1_age.isna())]\n",
    "dfe = dfe.loc[dfe.surface != \"None\"]"
   ]
  },
  {
   "cell_type": "code",
   "execution_count": 369,
   "metadata": {},
   "outputs": [
    {
     "name": "stdout",
     "output_type": "stream",
     "text": [
      "There are 92271 matches since 73120   1990-01-01\n",
      "Name: date, dtype: datetime64[ns]\n",
      "There are 62519 different players\n"
     ]
    }
   ],
   "source": [
    "print(\"There are {} matches since {}\".format(dfe.shape[0], dfe.date[0:1]))\n",
    "print(\"There are {} different players\".format(len(list(set(dfe.j0_name + dfe.j1_name)))))"
   ]
  },
  {
   "cell_type": "code",
   "execution_count": null,
   "metadata": {},
   "outputs": [],
   "source": []
  },
  {
   "cell_type": "code",
   "execution_count": 370,
   "metadata": {},
   "outputs": [
    {
     "data": {
      "text/plain": [
       "array(['Hard', 'Grass', 'Carpet', 'Clay'], dtype=object)"
      ]
     },
     "execution_count": 370,
     "metadata": {},
     "output_type": "execute_result"
    }
   ],
   "source": [
    "dfe.surface.unique()"
   ]
  },
  {
   "cell_type": "code",
   "execution_count": null,
   "metadata": {},
   "outputs": [],
   "source": []
  },
  {
   "cell_type": "code",
   "execution_count": 371,
   "metadata": {},
   "outputs": [
    {
     "data": {
      "text/plain": [
       "surface\n",
       "Carpet     7415\n",
       "Clay      31048\n",
       "Grass      9134\n",
       "Hard      44674\n",
       "Name: surface, dtype: int64"
      ]
     },
     "execution_count": 371,
     "metadata": {},
     "output_type": "execute_result"
    }
   ],
   "source": [
    "dfe.groupby([\"surface\"])[\"surface\"].count()"
   ]
  },
  {
   "cell_type": "code",
   "execution_count": null,
   "metadata": {},
   "outputs": [],
   "source": []
  },
  {
   "cell_type": "code",
   "execution_count": 372,
   "metadata": {},
   "outputs": [
    {
     "name": "stdout",
     "output_type": "stream",
     "text": [
      "[3 3 3 ... 1 1 1]\n",
      "[[0. 0. 0. 1.]\n",
      " [0. 0. 0. 1.]\n",
      " [0. 0. 0. 1.]\n",
      " ...\n",
      " [0. 1. 0. 0.]\n",
      " [0. 1. 0. 0.]\n",
      " [0. 1. 0. 0.]]\n"
     ]
    },
    {
     "data": {
      "text/plain": [
       "array([0, 4], dtype=int32)"
      ]
     },
     "execution_count": 372,
     "metadata": {},
     "output_type": "execute_result"
    }
   ],
   "source": [
    "from sklearn.preprocessing import LabelEncoder\n",
    "label_encoder = LabelEncoder()\n",
    "integer_encoded = label_encoder.fit_transform(dfe.surface)\n",
    "print(integer_encoded)\n",
    "\n",
    "onehot_encoder = OneHotEncoder(sparse=False)\n",
    "integer_encoded = integer_encoded.reshape(len(integer_encoded), 1)\n",
    "onehot_encoded = onehot_encoder.fit_transform(integer_encoded)\n",
    "print(onehot_encoded)\n",
    "\n",
    "onehot_encoder.feature_indices_"
   ]
  },
  {
   "cell_type": "code",
   "execution_count": 373,
   "metadata": {},
   "outputs": [],
   "source": [
    "df_surface = dfe.surface.str.get_dummies()"
   ]
  },
  {
   "cell_type": "code",
   "execution_count": 374,
   "metadata": {},
   "outputs": [
    {
     "data": {
      "text/html": [
       "<div>\n",
       "<style scoped>\n",
       "    .dataframe tbody tr th:only-of-type {\n",
       "        vertical-align: middle;\n",
       "    }\n",
       "\n",
       "    .dataframe tbody tr th {\n",
       "        vertical-align: top;\n",
       "    }\n",
       "\n",
       "    .dataframe thead th {\n",
       "        text-align: right;\n",
       "    }\n",
       "</style>\n",
       "<table border=\"1\" class=\"dataframe\">\n",
       "  <thead>\n",
       "    <tr style=\"text-align: right;\">\n",
       "      <th></th>\n",
       "      <th>Carpet</th>\n",
       "      <th>Clay</th>\n",
       "      <th>Grass</th>\n",
       "      <th>Hard</th>\n",
       "    </tr>\n",
       "  </thead>\n",
       "  <tbody>\n",
       "    <tr>\n",
       "      <th>73120</th>\n",
       "      <td>0</td>\n",
       "      <td>0</td>\n",
       "      <td>0</td>\n",
       "      <td>1</td>\n",
       "    </tr>\n",
       "    <tr>\n",
       "      <th>73121</th>\n",
       "      <td>0</td>\n",
       "      <td>0</td>\n",
       "      <td>0</td>\n",
       "      <td>1</td>\n",
       "    </tr>\n",
       "    <tr>\n",
       "      <th>73122</th>\n",
       "      <td>0</td>\n",
       "      <td>0</td>\n",
       "      <td>0</td>\n",
       "      <td>1</td>\n",
       "    </tr>\n",
       "    <tr>\n",
       "      <th>73123</th>\n",
       "      <td>0</td>\n",
       "      <td>0</td>\n",
       "      <td>0</td>\n",
       "      <td>1</td>\n",
       "    </tr>\n",
       "    <tr>\n",
       "      <th>73124</th>\n",
       "      <td>0</td>\n",
       "      <td>0</td>\n",
       "      <td>0</td>\n",
       "      <td>1</td>\n",
       "    </tr>\n",
       "  </tbody>\n",
       "</table>\n",
       "</div>"
      ],
      "text/plain": [
       "       Carpet  Clay  Grass  Hard\n",
       "73120       0     0      0     1\n",
       "73121       0     0      0     1\n",
       "73122       0     0      0     1\n",
       "73123       0     0      0     1\n",
       "73124       0     0      0     1"
      ]
     },
     "execution_count": 374,
     "metadata": {},
     "output_type": "execute_result"
    }
   ],
   "source": [
    "df_surface.head()"
   ]
  },
  {
   "cell_type": "code",
   "execution_count": null,
   "metadata": {},
   "outputs": [],
   "source": []
  },
  {
   "cell_type": "markdown",
   "metadata": {},
   "source": [
    "# Model"
   ]
  },
  {
   "cell_type": "code",
   "execution_count": 375,
   "metadata": {},
   "outputs": [],
   "source": [
    "from sklearn import neighbors, linear_model, svm, tree, ensemble\n",
    "from sklearn.model_selection import GridSearchCV\n",
    "from sklearn.metrics import confusion_matrix,roc_auc_score\n",
    "from sklearn import metrics\n",
    "from sklearn.model_selection import train_test_split\n",
    "import seaborn as sns\n",
    "class Model:\n",
    "    def __init__(self,data,seed,random_sample):\n",
    "        self.random_sample = random_sample\n",
    "        self.seed = seed\n",
    "        \n",
    "        self.data = data.sample(frac=self.random_sample, replace=False, random_state=self.seed)\n",
    "        \n",
    "        self.lr=None\n",
    "        self.pred_train=None\n",
    "        self.pred_test=None\n",
    "    def split(self, test_size):\n",
    "        self.test_size = test_size\n",
    "        train_X, test_X, train_y, test_y = train_test_split(self.data,self.data['target'], test_size = test_size, random_state=self.seed)\n",
    "        self.train_X = train_X.drop(columns=['target'])\n",
    "        self.test_X = test_X.drop(columns=['target'])\n",
    "        self.train_y = train_y\n",
    "        self.test_y = test_y\n",
    "    def model_LR(self,n_jobs,cv,regul):\n",
    "        self.regul = regul\n",
    "        if regul=='none':\n",
    "            n_iters = np.array([50, 200])\n",
    "            model = linear_model.SGDClassifier(loss='log', random_state=0, penalty=self.regul)\n",
    "            grid = GridSearchCV(estimator=model, param_grid=dict(n_iter=n_iters), scoring='roc_auc', n_jobs=n_jobs, cv=cv, verbose=1)\n",
    "            grid.fit(self.train_X,self.train_y)\n",
    "            self.grid = grid\n",
    "        elif regul=='elasticnet':\n",
    "            n_iters = np.array([50, 200])\n",
    "            alphas = np.logspace(-5, 1, 5)\n",
    "            l1_ratios = np.array([0, 0.15, 0.3, 0.4, 0.5, 0.6, 0.85, 1])\n",
    "            model = linear_model.SGDClassifier(loss='log', random_state=0, penalty=self.regul,n_iter=100,max_iter=100)\n",
    "            grid = GridSearchCV(estimator=model, param_grid=dict(alpha=alphas,l1_ratio=l1_ratios), scoring='roc_auc', n_jobs=n_jobs, cv=cv, verbose=1)\n",
    "            grid.fit(self.train_X,self.train_y)\n",
    "            self.grid = grid\n",
    "        return self.lr\n",
    "    def model_GB(self,n_jobs,cv):\n",
    "        param_grid = {'n_estimators' : [10, 20, 30, 40, 50, 60, 70, 80, 90, 100,150,200],\n",
    "                      'learning_rate':[0.1,0.2,0.5,0.7,0.9,1]}\n",
    "        model = ensemble.GradientBoostingClassifier()\n",
    "        grid = GridSearchCV(estimator=model, param_grid=param_grid, scoring='roc_auc', n_jobs=n_jobs, cv=cv, verbose=1)\n",
    "        grid.fit(self.train_X,self.train_y)\n",
    "        self.grid = grid\n",
    "    def model_KNN(self,n_jobs,cv):\n",
    "        param_grid = {'n_neighbors': np.arange(1,310,10)}\n",
    "        model = neighbors.KNeighborsClassifier()\n",
    "        grid = GridSearchCV(estimator=model, param_grid=param_grid, scoring='roc_auc', n_jobs=n_jobs, cv=cv, verbose=1)\n",
    "        grid.fit(self.train_X,self.train_y)\n",
    "        self.grid = grid\n",
    "    def predict(self):\n",
    "        self.pred_train = self.grid.best_estimator_.predict(X=self.train_X)\n",
    "        self.pred_test = self.grid.best_estimator_.predict(X=self.test_X)\n",
    "    def get_AUC(self):\n",
    "        self.train_auc=metrics.roc_auc_score(y_score=self.grid.best_estimator_.predict_proba(X=self.train_X)[:,1], y_true=self.train_y)\n",
    "        self.test_auc=metrics.roc_auc_score(y_score=self.grid.best_estimator_.predict_proba(X=self.test_X)[:,1], y_true=self.test_y)\n",
    "        return (self.train_auc,self.test_auc)\n",
    "    ### get contingency table + recall precision + roc curve !!!\n",
    "    def boxplot(self):\n",
    "        plt.figure()\n",
    "        plt.subplot(1,2,1)\n",
    "        sns.boxplot(x=self.train_y.values, y=self.grid.best_estimator_.predict_proba(X=self.train_X.values)[:,1])\n",
    "        plt.title('Train')\n",
    "        plt.subplot(1,2,2)\n",
    "        sns.boxplot(x=self.test_y.values, y=self.grid.best_estimator_.predict_proba(X=self.test_X.values)[:,1])\n",
    "        plt.title('Test')\n",
    "        return plt\n",
    "    def rocCurve(self):\n",
    "        plt.figure()\n",
    "        plt.subplot(1,2,1)\n",
    "        fpr, tpr, thresholds = metrics.roc_curve(y_score=self.grid.best_estimator_.predict_proba(X=self.train_X)[:,1], y_true=self.train_y)\n",
    "        plt.plot(fpr, tpr,'r')\n",
    "        plt.plot([0,1],[0,1],'b')\n",
    "        plt.title('Train, AUC: {}'.format(round(metrics.auc(fpr,tpr),3)))\n",
    "        \n",
    "        plt.subplot(1,2,2)\n",
    "        fpr, tpr, thresholds = metrics.roc_curve(y_score=self.grid.best_estimator_.predict_proba(X=self.test_X)[:,1], y_true=self.test_y)\n",
    "        plt.plot(fpr, tpr,'r')\n",
    "        plt.plot([0,1],[0,1],'b')\n",
    "        plt.title('Test, AUC: {}'.format(round(metrics.auc(fpr,tpr),3)))\n",
    "        return plt\n",
    "    def confusion(self,set_):\n",
    "        if set_ == \"train\":\n",
    "            res = metrics.confusion_matrix(y_true=self.train_y,y_pred=self.pred_train)\n",
    "        elif set_ == \"test\":\n",
    "            res = metrics.confusion_matrix(y_true=self.test_y,y_pred=self.pred_test)\n",
    "        return res\n",
    "    def getAccuracy(self):\n",
    "        res=(metrics.accuracy_score(y_true=self.train_y,y_pred=self.pred_train),\n",
    "            metrics.accuracy_score(y_true=self.test_y,y_pred=self.pred_test))\n",
    "        return res\n",
    "    def getClassificationReport(self,set_):\n",
    "        if set_ == \"train\":\n",
    "            res = metrics.classification_report(self.train_y, self.pred_train)\n",
    "        elif set_ == \"test\":\n",
    "            res = metrics.classification_report(self.test_y, self.pred_test)\n",
    "        return res"
   ]
  },
  {
   "cell_type": "code",
   "execution_count": 394,
   "metadata": {},
   "outputs": [
    {
     "name": "stderr",
     "output_type": "stream",
     "text": [
      "C:\\Users\\HAZRAK\\AppData\\Local\\Continuum\\anaconda3\\lib\\site-packages\\pandas\\core\\frame.py:3140: SettingWithCopyWarning: \n",
      "A value is trying to be set on a copy of a slice from a DataFrame.\n",
      "Try using .loc[row_indexer,col_indexer] = value instead\n",
      "\n",
      "See the caveats in the documentation: http://pandas.pydata.org/pandas-docs/stable/indexing.html#indexing-view-versus-copy\n",
      "  self[k1] = value[k2]\n"
     ]
    },
    {
     "data": {
      "text/html": [
       "<div>\n",
       "<style scoped>\n",
       "    .dataframe tbody tr th:only-of-type {\n",
       "        vertical-align: middle;\n",
       "    }\n",
       "\n",
       "    .dataframe tbody tr th {\n",
       "        vertical-align: top;\n",
       "    }\n",
       "\n",
       "    .dataframe thead th {\n",
       "        text-align: right;\n",
       "    }\n",
       "</style>\n",
       "<table border=\"1\" class=\"dataframe\">\n",
       "  <thead>\n",
       "    <tr style=\"text-align: right;\">\n",
       "      <th></th>\n",
       "      <th>target</th>\n",
       "      <th>j0_rank_points</th>\n",
       "      <th>j1_rank_points</th>\n",
       "      <th>j0_rank</th>\n",
       "      <th>j1_rank</th>\n",
       "      <th>j0_age</th>\n",
       "      <th>j1_age</th>\n",
       "      <th>Carpet</th>\n",
       "      <th>Clay</th>\n",
       "      <th>Grass</th>\n",
       "      <th>Hard</th>\n",
       "    </tr>\n",
       "  </thead>\n",
       "  <tbody>\n",
       "    <tr>\n",
       "      <th>73120</th>\n",
       "      <td>1</td>\n",
       "      <td>70.0</td>\n",
       "      <td>591.0</td>\n",
       "      <td>282.0</td>\n",
       "      <td>25.0</td>\n",
       "      <td>20.40</td>\n",
       "      <td>18.96</td>\n",
       "      <td>0</td>\n",
       "      <td>0</td>\n",
       "      <td>0</td>\n",
       "      <td>1</td>\n",
       "    </tr>\n",
       "    <tr>\n",
       "      <th>73121</th>\n",
       "      <td>0</td>\n",
       "      <td>157.0</td>\n",
       "      <td>182.0</td>\n",
       "      <td>146.0</td>\n",
       "      <td>127.0</td>\n",
       "      <td>29.00</td>\n",
       "      <td>25.01</td>\n",
       "      <td>0</td>\n",
       "      <td>0</td>\n",
       "      <td>0</td>\n",
       "      <td>1</td>\n",
       "    </tr>\n",
       "    <tr>\n",
       "      <th>73122</th>\n",
       "      <td>1</td>\n",
       "      <td>290.0</td>\n",
       "      <td>215.0</td>\n",
       "      <td>71.0</td>\n",
       "      <td>113.0</td>\n",
       "      <td>23.90</td>\n",
       "      <td>21.20</td>\n",
       "      <td>0</td>\n",
       "      <td>0</td>\n",
       "      <td>0</td>\n",
       "      <td>1</td>\n",
       "    </tr>\n",
       "    <tr>\n",
       "      <th>73123</th>\n",
       "      <td>0</td>\n",
       "      <td>297.0</td>\n",
       "      <td>271.0</td>\n",
       "      <td>68.0</td>\n",
       "      <td>80.0</td>\n",
       "      <td>30.23</td>\n",
       "      <td>21.94</td>\n",
       "      <td>0</td>\n",
       "      <td>0</td>\n",
       "      <td>0</td>\n",
       "      <td>1</td>\n",
       "    </tr>\n",
       "    <tr>\n",
       "      <th>73124</th>\n",
       "      <td>1</td>\n",
       "      <td>224.0</td>\n",
       "      <td>496.0</td>\n",
       "      <td>100.0</td>\n",
       "      <td>34.0</td>\n",
       "      <td>22.35</td>\n",
       "      <td>22.25</td>\n",
       "      <td>0</td>\n",
       "      <td>0</td>\n",
       "      <td>0</td>\n",
       "      <td>1</td>\n",
       "    </tr>\n",
       "  </tbody>\n",
       "</table>\n",
       "</div>"
      ],
      "text/plain": [
       "       target  j0_rank_points  j1_rank_points  j0_rank  j1_rank  j0_age  \\\n",
       "73120       1            70.0           591.0    282.0     25.0   20.40   \n",
       "73121       0           157.0           182.0    146.0    127.0   29.00   \n",
       "73122       1           290.0           215.0     71.0    113.0   23.90   \n",
       "73123       0           297.0           271.0     68.0     80.0   30.23   \n",
       "73124       1           224.0           496.0    100.0     34.0   22.35   \n",
       "\n",
       "       j1_age  Carpet  Clay  Grass  Hard  \n",
       "73120   18.96       0     0      0     1  \n",
       "73121   25.01       0     0      0     1  \n",
       "73122   21.20       0     0      0     1  \n",
       "73123   21.94       0     0      0     1  \n",
       "73124   22.25       0     0      0     1  "
      ]
     },
     "execution_count": 394,
     "metadata": {},
     "output_type": "execute_result"
    }
   ],
   "source": [
    "dfm = dfe[[\"target\",\"j0_rank_points\",\"j1_rank_points\",\"j0_rank\",\"j1_rank\",\"j0_age\",\"j1_age\"]]\n",
    "dfm[df_surface.columns] = df_surface\n",
    "dfm.head()"
   ]
  },
  {
   "cell_type": "code",
   "execution_count": 395,
   "metadata": {},
   "outputs": [
    {
     "data": {
      "image/png": "[encoded data removed]",
      "text/plain": [
       "<Figure size 432x288 with 1 Axes>"
      ]
     },
     "metadata": {
      "needs_background": "light"
     },
     "output_type": "display_data"
    }
   ],
   "source": [
    "sum(dfe.j0_ace.isna())\n",
    "_=plt.scatter(dfe.j0_ht, dfe.j0_ace, c='blue')"
   ]
  },
  {
   "cell_type": "code",
   "execution_count": null,
   "metadata": {},
   "outputs": [],
   "source": []
  },
  {
   "cell_type": "code",
   "execution_count": null,
   "metadata": {},
   "outputs": [],
   "source": []
  },
  {
   "cell_type": "code",
   "execution_count": 403,
   "metadata": {},
   "outputs": [
    {
     "name": "stdout",
     "output_type": "stream",
     "text": [
      "Fitting 4 folds for each of 40 candidates, totalling 160 fits\n"
     ]
    },
    {
     "name": "stderr",
     "output_type": "stream",
     "text": [
      "[Parallel(n_jobs=4)]: Done  42 tasks      | elapsed:   12.2s\n",
      "[Parallel(n_jobs=4)]: Done 160 out of 160 | elapsed:   37.9s finished\n",
      "C:\\Users\\HAZRAK\\AppData\\Local\\Continuum\\anaconda3\\lib\\site-packages\\sklearn\\linear_model\\stochastic_gradient.py:117: DeprecationWarning: n_iter parameter is deprecated in 0.19 and will be removed in 0.21. Use max_iter and tol instead.\n",
      "  DeprecationWarning)\n"
     ]
    }
   ],
   "source": [
    "lr = Model(data=dfm,seed=9,random_sample=0.5)\n",
    "lr.split(0.4)\n",
    "lr.model_LR(cv=4,n_jobs=4,regul=\"elasticnet\")\n",
    "lr.predict()"
   ]
  },
  {
   "cell_type": "code",
   "execution_count": 404,
   "metadata": {},
   "outputs": [
    {
     "data": {
      "image/png": "[encoded data removed]",
      "text/plain": [
       "<Figure size 432x288 with 2 Axes>"
      ]
     },
     "metadata": {
      "needs_background": "light"
     },
     "output_type": "display_data"
    }
   ],
   "source": [
    "_ = lr.rocCurve()"
   ]
  },
  {
   "cell_type": "code",
   "execution_count": 405,
   "metadata": {},
   "outputs": [
    {
     "data": {
      "image/png": "[encoded data removed]",
      "text/plain": [
       "<Figure size 432x288 with 2 Axes>"
      ]
     },
     "metadata": {
      "needs_background": "light"
     },
     "output_type": "display_data"
    }
   ],
   "source": [
    "_ = lr.boxplot()"
   ]
  },
  {
   "cell_type": "code",
   "execution_count": 409,
   "metadata": {},
   "outputs": [
    {
     "name": "stdout",
     "output_type": "stream",
     "text": [
      "Fitting 4 folds for each of 72 candidates, totalling 288 fits\n"
     ]
    },
    {
     "name": "stderr",
     "output_type": "stream",
     "text": [
      "[Parallel(n_jobs=4)]: Done  42 tasks      | elapsed:   19.4s\n",
      "[Parallel(n_jobs=4)]: Done 192 tasks      | elapsed:  1.4min\n",
      "[Parallel(n_jobs=4)]: Done 288 out of 288 | elapsed:  2.1min finished\n"
     ]
    }
   ],
   "source": [
    "gb = Model(data=dfm,seed=9,random_sample=0.5)\n",
    "gb.split(0.4)\n",
    "gb.model_GB(cv=4,n_jobs=4)\n",
    "gb.predict()"
   ]
  },
  {
   "cell_type": "code",
   "execution_count": 410,
   "metadata": {},
   "outputs": [
    {
     "data": {
      "image/png": "[encoded data removed]",
      "text/plain": [
       "<Figure size 432x288 with 2 Axes>"
      ]
     },
     "metadata": {
      "needs_background": "light"
     },
     "output_type": "display_data"
    }
   ],
   "source": [
    "_ = gb.rocCurve()"
   ]
  },
  {
   "cell_type": "code",
   "execution_count": 411,
   "metadata": {},
   "outputs": [
    {
     "data": {
      "image/png": "[encoded data removed]",
      "text/plain": [
       "<Figure size 432x288 with 2 Axes>"
      ]
     },
     "metadata": {
      "needs_background": "light"
     },
     "output_type": "display_data"
    }
   ],
   "source": [
    "_ = gb.boxplot()"
   ]
  },
  {
   "cell_type": "code",
   "execution_count": 399,
   "metadata": {},
   "outputs": [
    {
     "name": "stdout",
     "output_type": "stream",
     "text": [
      "Fitting 4 folds for each of 31 candidates, totalling 124 fits\n"
     ]
    },
    {
     "name": "stderr",
     "output_type": "stream",
     "text": [
      "[Parallel(n_jobs=4)]: Done  42 tasks      | elapsed:   22.3s\n",
      "[Parallel(n_jobs=4)]: Done 124 out of 124 | elapsed:  2.1min finished\n"
     ]
    }
   ],
   "source": [
    "knn = Model(data=dfm,seed=9,random_sample=0.5)\n",
    "knn.split(0.4)\n",
    "knn.model_KNN(cv=4,n_jobs=4)\n",
    "knn.predict()"
   ]
  },
  {
   "cell_type": "code",
   "execution_count": 400,
   "metadata": {},
   "outputs": [
    {
     "data": {
      "image/png": "[encoded data removed]",
      "text/plain": [
       "<Figure size 432x288 with 2 Axes>"
      ]
     },
     "metadata": {
      "needs_background": "light"
     },
     "output_type": "display_data"
    }
   ],
   "source": [
    "_ = knn.rocCurve()"
   ]
  },
  {
   "cell_type": "code",
   "execution_count": 401,
   "metadata": {},
   "outputs": [
    {
     "data": {
      "image/png": "[encoded data removed]",
      "text/plain": [
       "<Figure size 432x288 with 2 Axes>"
      ]
     },
     "metadata": {
      "needs_background": "light"
     },
     "output_type": "display_data"
    }
   ],
   "source": [
    "_ = knn.boxplot()"
   ]
  },
  {
   "cell_type": "code",
   "execution_count": 402,
   "metadata": {},
   "outputs": [
    {
     "data": {
      "text/plain": [
       "{'n_neighbors': 211}"
      ]
     },
     "execution_count": 402,
     "metadata": {},
     "output_type": "execute_result"
    }
   ],
   "source": [
    "knn.grid.best_params_"
   ]
  },
  {
   "cell_type": "code",
   "execution_count": null,
   "metadata": {},
   "outputs": [],
   "source": []
  },
  {
   "cell_type": "code",
   "execution_count": null,
   "metadata": {},
   "outputs": [],
   "source": []
  },
  {
   "cell_type": "code",
   "execution_count": null,
   "metadata": {},
   "outputs": [],
   "source": []
  }
 ],
 "metadata": {
  "kernelspec": {
   "display_name": "Python 3",
   "language": "python",
   "name": "python3"
  },
  "language_info": {
   "codemirror_mode": {
    "name": "ipython",
    "version": 3
   },
   "file_extension": ".py",
   "mimetype": "text/x-python",
   "name": "python",
   "nbconvert_exporter": "python",
   "pygments_lexer": "ipython3",
   "version": "3.7.0"
  }
 },
 "nbformat": 4,
 "nbformat_minor": 2
}
